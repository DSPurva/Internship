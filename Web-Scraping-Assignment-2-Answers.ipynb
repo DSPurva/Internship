{
 "cells": [
  {
   "cell_type": "markdown",
   "id": "affd9b24",
   "metadata": {},
   "source": [
    "# Web-Scraping-Assignment-2"
   ]
  },
  {
   "cell_type": "markdown",
   "id": "f3836d74",
   "metadata": {},
   "source": [
    "# Ans1"
   ]
  },
  {
   "cell_type": "code",
   "execution_count": 37,
   "id": "2c398f75",
   "metadata": {},
   "outputs": [],
   "source": [
    "import selenium\n",
    "import pandas as pd\n",
    "from selenium import webdriver\n",
    "import warnings\n",
    "warnings.filterwarnings('ignore')\n",
    "from selenium.common.exceptions import StaleElementReferenceException, NoSuchElementException\n",
    "from selenium.webdriver.common.by import By\n",
    "import time"
   ]
  },
  {
   "cell_type": "code",
   "execution_count": 38,
   "id": "d0d28569",
   "metadata": {},
   "outputs": [],
   "source": [
    "driver = webdriver.Chrome(r\"D:\\Fliprobo\\chromedriver.exe\")"
   ]
  },
  {
   "cell_type": "code",
   "execution_count": 39,
   "id": "af029efb",
   "metadata": {},
   "outputs": [],
   "source": [
    "driver.get(\"https://www.naukri.com/\")"
   ]
  },
  {
   "cell_type": "code",
   "execution_count": 40,
   "id": "0711132a",
   "metadata": {},
   "outputs": [],
   "source": [
    "designation = driver.find_element(By.CLASS_NAME,\"suggestor-input \")\n",
    "designation.send_keys(\"Data Analyst\")"
   ]
  },
  {
   "cell_type": "code",
   "execution_count": 41,
   "id": "37979b0c",
   "metadata": {},
   "outputs": [],
   "source": [
    "location = driver.find_element(By.XPATH,\"/html/body/div[1]/div[2]/div[3]/div/div/div[5]/div/div/div/input\")\n",
    "location.send_keys(\"Banglore\")"
   ]
  },
  {
   "cell_type": "code",
   "execution_count": 42,
   "id": "319ced16",
   "metadata": {},
   "outputs": [],
   "source": [
    "search=driver.find_element(By.CLASS_NAME,\"qsbSubmit\")\n",
    "search.click()"
   ]
  },
  {
   "cell_type": "code",
   "execution_count": 43,
   "id": "e675fa6f",
   "metadata": {},
   "outputs": [],
   "source": [
    "#Scraping 1-10job titles\n",
    "job_title=[]\n",
    "title_tags =driver.find_elements(By.XPATH,'//a[@class=\"title fw500 ellipsis\"]')\n",
    "for i in title_tags[0:10]:\n",
    "    job_title.append(i.text)\n",
    "\n",
    "#Scraping 1-10job location\n",
    "job_location=[]\n",
    "location_tags=driver.find_elements(By.XPATH,'//li[@class=\"fleft grey-text br2 placeHolderLi location\"]')\n",
    "for i in location_tags[0:10]:\n",
    "    job_location.append(i.text)\n",
    "\n",
    "#Scraping 1-10 companies\n",
    "company_name=[]\n",
    "company_tags= driver.find_elements(By.XPATH,'//a[@class=\"subTitle ellipsis fleft\"]')\n",
    "for i in company_tags[0:10]:\n",
    "    company_name.append(i.text)\n",
    "\n",
    "#Scraping 1-10 experiences\n",
    "experience_required=[]\n",
    "experience_tags= driver.find_elements(By.XPATH,'//li[@class=\"fleft grey-text br2 placeHolderLi experience\"]//span')\n",
    "for i in experience_tags[0:10]:\n",
    "    experience_required.append(i.text)"
   ]
  },
  {
   "cell_type": "code",
   "execution_count": 44,
   "id": "a30880dc",
   "metadata": {},
   "outputs": [
    {
     "name": "stdout",
     "output_type": "stream",
     "text": [
      "10 10 10 10\n"
     ]
    }
   ],
   "source": [
    "print(len(job_title),len(job_location),len(company_name),len(experience_required))"
   ]
  },
  {
   "cell_type": "code",
   "execution_count": 45,
   "id": "c25018fa",
   "metadata": {},
   "outputs": [
    {
     "data": {
      "text/html": [
       "<div>\n",
       "<style scoped>\n",
       "    .dataframe tbody tr th:only-of-type {\n",
       "        vertical-align: middle;\n",
       "    }\n",
       "\n",
       "    .dataframe tbody tr th {\n",
       "        vertical-align: top;\n",
       "    }\n",
       "\n",
       "    .dataframe thead th {\n",
       "        text-align: right;\n",
       "    }\n",
       "</style>\n",
       "<table border=\"1\" class=\"dataframe\">\n",
       "  <thead>\n",
       "    <tr style=\"text-align: right;\">\n",
       "      <th></th>\n",
       "      <th>Job_titlle</th>\n",
       "      <th>Job_location</th>\n",
       "      <th>Company_name</th>\n",
       "      <th>Experience_required</th>\n",
       "    </tr>\n",
       "  </thead>\n",
       "  <tbody>\n",
       "    <tr>\n",
       "      <th>0</th>\n",
       "      <td>Data Analyst</td>\n",
       "      <td>Bangalore/Bengaluru</td>\n",
       "      <td>Bayer</td>\n",
       "      <td>2-5 Yrs</td>\n",
       "    </tr>\n",
       "    <tr>\n",
       "      <th>1</th>\n",
       "      <td>Senior Data Analyst</td>\n",
       "      <td>Bangalore/Bengaluru</td>\n",
       "      <td>Optum</td>\n",
       "      <td>5-7 Yrs</td>\n",
       "    </tr>\n",
       "    <tr>\n",
       "      <th>2</th>\n",
       "      <td>Data Analyst</td>\n",
       "      <td>Bangalore/Bengaluru</td>\n",
       "      <td>Cargill</td>\n",
       "      <td>3-5 Yrs</td>\n",
       "    </tr>\n",
       "    <tr>\n",
       "      <th>3</th>\n",
       "      <td>Data Analyst, plsql, Tableau, Informatica</td>\n",
       "      <td>Noida, Hyderabad/Secunderabad, Pune, Gurgaon/G...</td>\n",
       "      <td>Capgemini</td>\n",
       "      <td>3-8 Yrs</td>\n",
       "    </tr>\n",
       "    <tr>\n",
       "      <th>4</th>\n",
       "      <td>Senior Data Analyst - SQL/Tableau</td>\n",
       "      <td>Kolkata, Mumbai, Hyderabad/Secunderabad, Pune,...</td>\n",
       "      <td>Global Employees</td>\n",
       "      <td>7-12 Yrs</td>\n",
       "    </tr>\n",
       "    <tr>\n",
       "      <th>5</th>\n",
       "      <td>Senior Data Analyst II</td>\n",
       "      <td>Bangalore/Bengaluru</td>\n",
       "      <td>Flipkart</td>\n",
       "      <td>3-6 Yrs</td>\n",
       "    </tr>\n",
       "    <tr>\n",
       "      <th>6</th>\n",
       "      <td>Data Analyst - Data Visualization &amp; Reporting</td>\n",
       "      <td>Kolkata, Hyderabad/Secunderabad, Pune, Ahmedab...</td>\n",
       "      <td>Global Employees</td>\n",
       "      <td>5-10 Yrs</td>\n",
       "    </tr>\n",
       "    <tr>\n",
       "      <th>7</th>\n",
       "      <td>Data Analyst</td>\n",
       "      <td>Remote</td>\n",
       "      <td>LINGARO INDIA PRIVATE LIMITED</td>\n",
       "      <td>3-5 Yrs</td>\n",
       "    </tr>\n",
       "    <tr>\n",
       "      <th>8</th>\n",
       "      <td>Data Analyst</td>\n",
       "      <td>Bangalore/Bengaluru</td>\n",
       "      <td>Bright Money</td>\n",
       "      <td>0-2 Yrs</td>\n",
       "    </tr>\n",
       "    <tr>\n",
       "      <th>9</th>\n",
       "      <td>Data Analyst</td>\n",
       "      <td>Bangalore/Bengaluru</td>\n",
       "      <td>Blinkit</td>\n",
       "      <td>0-2 Yrs</td>\n",
       "    </tr>\n",
       "  </tbody>\n",
       "</table>\n",
       "</div>"
      ],
      "text/plain": [
       "                                      Job_titlle  \\\n",
       "0                                   Data Analyst   \n",
       "1                            Senior Data Analyst   \n",
       "2                                   Data Analyst   \n",
       "3      Data Analyst, plsql, Tableau, Informatica   \n",
       "4              Senior Data Analyst - SQL/Tableau   \n",
       "5                         Senior Data Analyst II   \n",
       "6  Data Analyst - Data Visualization & Reporting   \n",
       "7                                   Data Analyst   \n",
       "8                                   Data Analyst   \n",
       "9                                   Data Analyst   \n",
       "\n",
       "                                        Job_location  \\\n",
       "0                                Bangalore/Bengaluru   \n",
       "1                                Bangalore/Bengaluru   \n",
       "2                                Bangalore/Bengaluru   \n",
       "3  Noida, Hyderabad/Secunderabad, Pune, Gurgaon/G...   \n",
       "4  Kolkata, Mumbai, Hyderabad/Secunderabad, Pune,...   \n",
       "5                                Bangalore/Bengaluru   \n",
       "6  Kolkata, Hyderabad/Secunderabad, Pune, Ahmedab...   \n",
       "7                                             Remote   \n",
       "8                                Bangalore/Bengaluru   \n",
       "9                                Bangalore/Bengaluru   \n",
       "\n",
       "                    Company_name Experience_required  \n",
       "0                          Bayer             2-5 Yrs  \n",
       "1                          Optum             5-7 Yrs  \n",
       "2                        Cargill             3-5 Yrs  \n",
       "3                      Capgemini             3-8 Yrs  \n",
       "4               Global Employees            7-12 Yrs  \n",
       "5                       Flipkart             3-6 Yrs  \n",
       "6               Global Employees            5-10 Yrs  \n",
       "7  LINGARO INDIA PRIVATE LIMITED             3-5 Yrs  \n",
       "8                   Bright Money             0-2 Yrs  \n",
       "9                        Blinkit             0-2 Yrs  "
      ]
     },
     "execution_count": 45,
     "metadata": {},
     "output_type": "execute_result"
    }
   ],
   "source": [
    "Naukri_jobs=pd.DataFrame({'Job_titlle':job_title,'Job_location':job_location,'Company_name':company_name,'Experience_required':experience_required})\n",
    "Naukri_jobs    #final Dataframe"
   ]
  },
  {
   "cell_type": "markdown",
   "id": "e5694da0",
   "metadata": {},
   "source": [
    "# Ans2"
   ]
  },
  {
   "cell_type": "code",
   "execution_count": 46,
   "id": "3711fae6",
   "metadata": {},
   "outputs": [],
   "source": [
    "import selenium\n",
    "from selenium import webdriver\n",
    "from selenium.common.exceptions import StaleElementReferenceException, NoSuchElementException\n",
    "from selenium.webdriver.common.by import By\n",
    "\n",
    "import pandas as pd\n",
    "\n",
    "import warnings\n",
    "warnings.filterwarnings('ignore')\n",
    "\n",
    "import time"
   ]
  },
  {
   "cell_type": "code",
   "execution_count": 47,
   "id": "8357feb8",
   "metadata": {},
   "outputs": [],
   "source": [
    "driver= webdriver.Chrome(r\"D:\\Fliprobo\\chromedriver.exe\")"
   ]
  },
  {
   "cell_type": "code",
   "execution_count": 48,
   "id": "2dc4edd6",
   "metadata": {},
   "outputs": [],
   "source": [
    "driver.get(\"https://www.naukri.com/\")"
   ]
  },
  {
   "cell_type": "code",
   "execution_count": 49,
   "id": "797453c2",
   "metadata": {},
   "outputs": [],
   "source": [
    "designt = driver.find_element(By.CLASS_NAME,\"suggestor-input\")\n",
    "designt.send_keys(\"Data Scientist\")"
   ]
  },
  {
   "cell_type": "code",
   "execution_count": 50,
   "id": "111b43c0",
   "metadata": {},
   "outputs": [],
   "source": [
    "locatn= driver.find_element(By.XPATH,\"/html/body/div[1]/div[2]/div[3]/div/div/div[5]/div/div/div/input\")\n",
    "locatn.send_keys(\"Banglore\")"
   ]
  },
  {
   "cell_type": "code",
   "execution_count": 51,
   "id": "d6c2095c",
   "metadata": {},
   "outputs": [],
   "source": [
    "search=driver.find_element(By.CLASS_NAME,\"qsbSubmit\")\n",
    "search.click()"
   ]
  },
  {
   "cell_type": "code",
   "execution_count": 52,
   "id": "4c111855",
   "metadata": {},
   "outputs": [],
   "source": [
    "#Scraping 1-10job titles\n",
    "job_title=[]\n",
    "title_tags =driver.find_elements(By.XPATH,'//a[@class=\"title fw500 ellipsis\"]')\n",
    "for i in title_tags[0:10]:\n",
    "    job_title.append(i.text)\n",
    "\n",
    "#Scraping 1-10job location\n",
    "job_location=[]\n",
    "location_tags=driver.find_elements(By.XPATH,'//li[@class=\"fleft grey-text br2 placeHolderLi location\"]')\n",
    "for i in location_tags[0:10]:\n",
    "    job_location.append(i.text)\n",
    "\n",
    "#Scraping 1-10 companies\n",
    "company_name=[]\n",
    "company_tags= driver.find_elements(By.XPATH,'//a[@class=\"subTitle ellipsis fleft\"]')\n",
    "for i in company_tags[0:10]:\n",
    "    company_name.append(i.text)"
   ]
  },
  {
   "cell_type": "code",
   "execution_count": 53,
   "id": "abc32ef0",
   "metadata": {},
   "outputs": [
    {
     "name": "stdout",
     "output_type": "stream",
     "text": [
      "10 10 10\n"
     ]
    }
   ],
   "source": [
    "print(len(job_title),len(job_location),len(company_name))"
   ]
  },
  {
   "cell_type": "code",
   "execution_count": 54,
   "id": "f271af46",
   "metadata": {},
   "outputs": [
    {
     "data": {
      "text/html": [
       "<div>\n",
       "<style scoped>\n",
       "    .dataframe tbody tr th:only-of-type {\n",
       "        vertical-align: middle;\n",
       "    }\n",
       "\n",
       "    .dataframe tbody tr th {\n",
       "        vertical-align: top;\n",
       "    }\n",
       "\n",
       "    .dataframe thead th {\n",
       "        text-align: right;\n",
       "    }\n",
       "</style>\n",
       "<table border=\"1\" class=\"dataframe\">\n",
       "  <thead>\n",
       "    <tr style=\"text-align: right;\">\n",
       "      <th></th>\n",
       "      <th>Job_titlle</th>\n",
       "      <th>Job_location</th>\n",
       "      <th>Company_name</th>\n",
       "    </tr>\n",
       "  </thead>\n",
       "  <tbody>\n",
       "    <tr>\n",
       "      <th>0</th>\n",
       "      <td>Senior Manager - EmTech - Machine Learning - P&amp;T</td>\n",
       "      <td>Mumbai, Hyderabad/Secunderabad, Bangalore/Beng...</td>\n",
       "      <td>PwC</td>\n",
       "    </tr>\n",
       "    <tr>\n",
       "      <th>1</th>\n",
       "      <td>Assistant Manager - Data Science</td>\n",
       "      <td>Mumbai, Pune, Bangalore/Bengaluru</td>\n",
       "      <td>CitiusTech</td>\n",
       "    </tr>\n",
       "    <tr>\n",
       "      <th>2</th>\n",
       "      <td>Analystics &amp; Modeling Specialist</td>\n",
       "      <td>Kolkata, Mumbai, Hyderabad/Secunderabad, Pune,...</td>\n",
       "      <td>Accenture</td>\n",
       "    </tr>\n",
       "    <tr>\n",
       "      <th>3</th>\n",
       "      <td>Data scientist _Tata Consultancy Services(Tcs)</td>\n",
       "      <td>Kochi/Cochin, Indore, New Delhi, Hyderabad/Sec...</td>\n",
       "      <td>TATA CONSULTANCY SERVICES (TCS)</td>\n",
       "    </tr>\n",
       "    <tr>\n",
       "      <th>4</th>\n",
       "      <td>Data Science Senior Analyst</td>\n",
       "      <td>Kolkata, Mumbai, Hyderabad/Secunderabad, Pune,...</td>\n",
       "      <td>Accenture</td>\n",
       "    </tr>\n",
       "    <tr>\n",
       "      <th>5</th>\n",
       "      <td>Job||Job Opening For AI Technologist - Data Sc...</td>\n",
       "      <td>New Delhi, Hyderabad/Secunderabad, Pune, Chenn...</td>\n",
       "      <td>Wipro</td>\n",
       "    </tr>\n",
       "    <tr>\n",
       "      <th>6</th>\n",
       "      <td>Hiring For DATA Scientist @ NTT DATA Business ...</td>\n",
       "      <td>Noida, Hyderabad/Secunderabad, Pune, Gurgaon/G...</td>\n",
       "      <td>NTT DATA Business Solutions Private Limited</td>\n",
       "    </tr>\n",
       "    <tr>\n",
       "      <th>7</th>\n",
       "      <td>Urgent Job Opening For AI Practitioner - Data ...</td>\n",
       "      <td>Kochi/Cochin, New Delhi, Bangalore/Bengaluru, ...</td>\n",
       "      <td>Wipro</td>\n",
       "    </tr>\n",
       "    <tr>\n",
       "      <th>8</th>\n",
       "      <td>Expert Data Scientist</td>\n",
       "      <td>Mumbai, Bangalore/Bengaluru</td>\n",
       "      <td>United Phosphorus Limited</td>\n",
       "    </tr>\n",
       "    <tr>\n",
       "      <th>9</th>\n",
       "      <td>BCAI - Senior Data Scientist</td>\n",
       "      <td>Bangalore/Bengaluru</td>\n",
       "      <td>Bosch Global Software Technologies</td>\n",
       "    </tr>\n",
       "  </tbody>\n",
       "</table>\n",
       "</div>"
      ],
      "text/plain": [
       "                                          Job_titlle  \\\n",
       "0   Senior Manager - EmTech - Machine Learning - P&T   \n",
       "1                   Assistant Manager - Data Science   \n",
       "2                   Analystics & Modeling Specialist   \n",
       "3     Data scientist _Tata Consultancy Services(Tcs)   \n",
       "4                        Data Science Senior Analyst   \n",
       "5  Job||Job Opening For AI Technologist - Data Sc...   \n",
       "6  Hiring For DATA Scientist @ NTT DATA Business ...   \n",
       "7  Urgent Job Opening For AI Practitioner - Data ...   \n",
       "8                              Expert Data Scientist   \n",
       "9                       BCAI - Senior Data Scientist   \n",
       "\n",
       "                                        Job_location  \\\n",
       "0  Mumbai, Hyderabad/Secunderabad, Bangalore/Beng...   \n",
       "1                  Mumbai, Pune, Bangalore/Bengaluru   \n",
       "2  Kolkata, Mumbai, Hyderabad/Secunderabad, Pune,...   \n",
       "3  Kochi/Cochin, Indore, New Delhi, Hyderabad/Sec...   \n",
       "4  Kolkata, Mumbai, Hyderabad/Secunderabad, Pune,...   \n",
       "5  New Delhi, Hyderabad/Secunderabad, Pune, Chenn...   \n",
       "6  Noida, Hyderabad/Secunderabad, Pune, Gurgaon/G...   \n",
       "7  Kochi/Cochin, New Delhi, Bangalore/Bengaluru, ...   \n",
       "8                        Mumbai, Bangalore/Bengaluru   \n",
       "9                                Bangalore/Bengaluru   \n",
       "\n",
       "                                  Company_name  \n",
       "0                                          PwC  \n",
       "1                                   CitiusTech  \n",
       "2                                    Accenture  \n",
       "3              TATA CONSULTANCY SERVICES (TCS)  \n",
       "4                                    Accenture  \n",
       "5                                        Wipro  \n",
       "6  NTT DATA Business Solutions Private Limited  \n",
       "7                                        Wipro  \n",
       "8                    United Phosphorus Limited  \n",
       "9           Bosch Global Software Technologies  "
      ]
     },
     "execution_count": 54,
     "metadata": {},
     "output_type": "execute_result"
    }
   ],
   "source": [
    "Data_Scientist_jobs=pd.DataFrame({'Job_titlle':job_title,'Job_location':job_location,'Company_name':company_name})\n",
    "Data_Scientist_jobs #final dataframe"
   ]
  },
  {
   "cell_type": "markdown",
   "id": "8a84f05f",
   "metadata": {},
   "source": [
    "# Ans 3"
   ]
  },
  {
   "cell_type": "code",
   "execution_count": 67,
   "id": "c8d6219c",
   "metadata": {},
   "outputs": [],
   "source": [
    "import selenium\n",
    "from selenium import webdriver\n",
    "from selenium.common.exceptions import StaleElementReferenceException, NoSuchElementException\n",
    "from selenium.webdriver.common.by import By\n",
    "\n",
    "import pandas as pd\n",
    "\n",
    "import warnings\n",
    "warnings.filterwarnings('ignore')\n",
    "\n",
    "import time"
   ]
  },
  {
   "cell_type": "code",
   "execution_count": 68,
   "id": "376e3b7e",
   "metadata": {},
   "outputs": [],
   "source": [
    "driver= webdriver.Chrome(r\"D:\\Fliprobo\\chromedriver.exe\")"
   ]
  },
  {
   "cell_type": "code",
   "execution_count": 69,
   "id": "ceaccf6b",
   "metadata": {},
   "outputs": [],
   "source": [
    "driver.get(\"https://www.naukri.com/\")"
   ]
  },
  {
   "cell_type": "code",
   "execution_count": 70,
   "id": "c7cb0722",
   "metadata": {},
   "outputs": [],
   "source": [
    "designt = driver.find_element(By.CLASS_NAME,\"suggestor-input\")\n",
    "designt.send_keys(\"Data Scientist\")"
   ]
  },
  {
   "cell_type": "code",
   "execution_count": 71,
   "id": "c2b93017",
   "metadata": {},
   "outputs": [],
   "source": [
    "search=driver.find_element(By.CLASS_NAME,\"qsbSubmit\")\n",
    "search.click()"
   ]
  },
  {
   "cell_type": "code",
   "execution_count": 75,
   "id": "536d9262",
   "metadata": {},
   "outputs": [],
   "source": [
    "location=driver.find_element(By.XPATH,\"/html/body/div[1]/div[3]/div[2]/section[1]/div[2]/div[1]/div[2]/div[3]/label/p/span[1]\")\n",
    "location.click()"
   ]
  },
  {
   "cell_type": "code",
   "execution_count": 76,
   "id": "bd3574c9",
   "metadata": {},
   "outputs": [],
   "source": [
    "salary= driver.find_element(By.XPATH,\"/html/body/div[1]/div[3]/div[2]/section[1]/div[2]/div[6]/div[2]/div[2]/label/p/span[1]\")\n",
    "salary.click()"
   ]
  },
  {
   "cell_type": "code",
   "execution_count": 78,
   "id": "035506c8",
   "metadata": {},
   "outputs": [],
   "source": [
    "#Scraping 1-10job titles\n",
    "job_title=[]\n",
    "title_tags =driver.find_elements(By.XPATH,'//a[@class=\"title fw500 ellipsis\"]')\n",
    "for i in title_tags[0:10]:\n",
    "    job_title.append(i.text)\n",
    "\n",
    "#Scraping 1-10job location\n",
    "job_location=[]\n",
    "location_tags=driver.find_elements(By.XPATH,'//li[@class=\"fleft grey-text br2 placeHolderLi location\"]')\n",
    "for i in location_tags[0:10]:\n",
    "    job_location.append(i.text)\n",
    "\n",
    "#Scraping 1-10 companies\n",
    "company_name=[]\n",
    "company_tags= driver.find_elements(By.XPATH,'//a[@class=\"subTitle ellipsis fleft\"]')\n",
    "for i in company_tags[0:10]:\n",
    "    company_name.append(i.text)\n",
    "    \n",
    "#Scraping 1-10 experiences\n",
    "experience_required=[]\n",
    "experience_tags= driver.find_elements(By.XPATH,'//li[@class=\"fleft grey-text br2 placeHolderLi experience\"]//span')\n",
    "for i in experience_tags[0:10]:\n",
    "    experience_required.append(i.text)"
   ]
  },
  {
   "cell_type": "code",
   "execution_count": 79,
   "id": "4ff598e7",
   "metadata": {},
   "outputs": [
    {
     "name": "stdout",
     "output_type": "stream",
     "text": [
      "10 10 10 10\n"
     ]
    }
   ],
   "source": [
    "print(len(job_title),len(job_location),len(company_name),len(experience_required))"
   ]
  },
  {
   "cell_type": "code",
   "execution_count": 80,
   "id": "9e59e147",
   "metadata": {},
   "outputs": [
    {
     "data": {
      "text/html": [
       "<div>\n",
       "<style scoped>\n",
       "    .dataframe tbody tr th:only-of-type {\n",
       "        vertical-align: middle;\n",
       "    }\n",
       "\n",
       "    .dataframe tbody tr th {\n",
       "        vertical-align: top;\n",
       "    }\n",
       "\n",
       "    .dataframe thead th {\n",
       "        text-align: right;\n",
       "    }\n",
       "</style>\n",
       "<table border=\"1\" class=\"dataframe\">\n",
       "  <thead>\n",
       "    <tr style=\"text-align: right;\">\n",
       "      <th></th>\n",
       "      <th>Job_titlle</th>\n",
       "      <th>Job_location</th>\n",
       "      <th>Company_name</th>\n",
       "      <th>Experience_required</th>\n",
       "    </tr>\n",
       "  </thead>\n",
       "  <tbody>\n",
       "    <tr>\n",
       "      <th>0</th>\n",
       "      <td>Job||Job Opening For AI Technologist - Data Sc...</td>\n",
       "      <td>New Delhi, Hyderabad/Secunderabad, Pune, Chenn...</td>\n",
       "      <td>Wipro</td>\n",
       "      <td>5-10 Yrs</td>\n",
       "    </tr>\n",
       "    <tr>\n",
       "      <th>1</th>\n",
       "      <td>Data Scientist - Noida/Bangalore</td>\n",
       "      <td>Noida, Bangalore/Bengaluru</td>\n",
       "      <td>EXL</td>\n",
       "      <td>5-10 Yrs</td>\n",
       "    </tr>\n",
       "    <tr>\n",
       "      <th>2</th>\n",
       "      <td>DigitalBCG GAMMA Data Scientist</td>\n",
       "      <td>New Delhi, Bangalore/Bengaluru</td>\n",
       "      <td>Boston Consulting Group</td>\n",
       "      <td>2-5 Yrs</td>\n",
       "    </tr>\n",
       "    <tr>\n",
       "      <th>3</th>\n",
       "      <td>Data Scientist</td>\n",
       "      <td>Gurgaon/Gurugram</td>\n",
       "      <td>Optum</td>\n",
       "      <td>2-7 Yrs</td>\n",
       "    </tr>\n",
       "    <tr>\n",
       "      <th>4</th>\n",
       "      <td>Chat-bot Developer / Data Scientist</td>\n",
       "      <td>Mumbai, New Delhi, Bangalore/Bengaluru\\n(WFH d...</td>\n",
       "      <td>Big Seo Buzz</td>\n",
       "      <td>2-7 Yrs</td>\n",
       "    </tr>\n",
       "    <tr>\n",
       "      <th>5</th>\n",
       "      <td>Data Scientist / Chat-bot Developer</td>\n",
       "      <td>New Delhi, Bangalore/Bengaluru, Mumbai (All Ar...</td>\n",
       "      <td>Big Seo Buzz</td>\n",
       "      <td>3-7 Yrs</td>\n",
       "    </tr>\n",
       "    <tr>\n",
       "      <th>6</th>\n",
       "      <td>Data Scientist - Engine Algorithm</td>\n",
       "      <td>Delhi / NCR, Kolkata, Mumbai, Hyderabad/Secund...</td>\n",
       "      <td>Primo Hiring</td>\n",
       "      <td>1-3 Yrs</td>\n",
       "    </tr>\n",
       "    <tr>\n",
       "      <th>7</th>\n",
       "      <td>Data Scientist For Healthcare Product team</td>\n",
       "      <td>Delhi / NCR, Chennai, Bangalore/Bengaluru</td>\n",
       "      <td>SECUREKLOUD TECHNOLOGIES</td>\n",
       "      <td>2-7 Yrs</td>\n",
       "    </tr>\n",
       "    <tr>\n",
       "      <th>8</th>\n",
       "      <td>Data Scientist For Healthcare Product team</td>\n",
       "      <td>Delhi / NCR, Chennai, Bangalore/Bengaluru</td>\n",
       "      <td>SECUREKLOUD TECHNOLOGIES</td>\n",
       "      <td>2-7 Yrs</td>\n",
       "    </tr>\n",
       "    <tr>\n",
       "      <th>9</th>\n",
       "      <td>Data Scientist</td>\n",
       "      <td>Noida, Gurgaon/Gurugram, Jaipur</td>\n",
       "      <td>Celebal Technologies</td>\n",
       "      <td>1-5 Yrs</td>\n",
       "    </tr>\n",
       "  </tbody>\n",
       "</table>\n",
       "</div>"
      ],
      "text/plain": [
       "                                          Job_titlle  \\\n",
       "0  Job||Job Opening For AI Technologist - Data Sc...   \n",
       "1                   Data Scientist - Noida/Bangalore   \n",
       "2                    DigitalBCG GAMMA Data Scientist   \n",
       "3                                     Data Scientist   \n",
       "4                Chat-bot Developer / Data Scientist   \n",
       "5                Data Scientist / Chat-bot Developer   \n",
       "6                  Data Scientist - Engine Algorithm   \n",
       "7         Data Scientist For Healthcare Product team   \n",
       "8         Data Scientist For Healthcare Product team   \n",
       "9                                     Data Scientist   \n",
       "\n",
       "                                        Job_location  \\\n",
       "0  New Delhi, Hyderabad/Secunderabad, Pune, Chenn...   \n",
       "1                         Noida, Bangalore/Bengaluru   \n",
       "2                     New Delhi, Bangalore/Bengaluru   \n",
       "3                                   Gurgaon/Gurugram   \n",
       "4  Mumbai, New Delhi, Bangalore/Bengaluru\\n(WFH d...   \n",
       "5  New Delhi, Bangalore/Bengaluru, Mumbai (All Ar...   \n",
       "6  Delhi / NCR, Kolkata, Mumbai, Hyderabad/Secund...   \n",
       "7          Delhi / NCR, Chennai, Bangalore/Bengaluru   \n",
       "8          Delhi / NCR, Chennai, Bangalore/Bengaluru   \n",
       "9                    Noida, Gurgaon/Gurugram, Jaipur   \n",
       "\n",
       "               Company_name Experience_required  \n",
       "0                     Wipro            5-10 Yrs  \n",
       "1                       EXL            5-10 Yrs  \n",
       "2   Boston Consulting Group             2-5 Yrs  \n",
       "3                     Optum             2-7 Yrs  \n",
       "4              Big Seo Buzz             2-7 Yrs  \n",
       "5              Big Seo Buzz             3-7 Yrs  \n",
       "6              Primo Hiring             1-3 Yrs  \n",
       "7  SECUREKLOUD TECHNOLOGIES             2-7 Yrs  \n",
       "8  SECUREKLOUD TECHNOLOGIES             2-7 Yrs  \n",
       "9      Celebal Technologies             1-5 Yrs  "
      ]
     },
     "execution_count": 80,
     "metadata": {},
     "output_type": "execute_result"
    }
   ],
   "source": [
    "Naukri_jobs=pd.DataFrame({'Job_titlle':job_title,'Job_location':job_location,'Company_name':company_name,'Experience_required':experience_required})\n",
    "Naukri_jobs    #Final dataframe"
   ]
  },
  {
   "cell_type": "markdown",
   "id": "5acdaf86",
   "metadata": {},
   "source": [
    "# Ans4"
   ]
  },
  {
   "cell_type": "code",
   "execution_count": 78,
   "id": "ac1b75a0",
   "metadata": {},
   "outputs": [],
   "source": [
    "import selenium\n",
    "from selenium import webdriver\n",
    "from selenium.common.exceptions import StaleElementReferenceException, NoSuchElementException\n",
    "from selenium.webdriver.common.by import By\n",
    "\n",
    "import pandas as pd\n",
    "\n",
    "import warnings\n",
    "warnings.filterwarnings('ignore')\n",
    "\n",
    "import time"
   ]
  },
  {
   "cell_type": "code",
   "execution_count": 79,
   "id": "efdffea3",
   "metadata": {},
   "outputs": [],
   "source": [
    "driver= webdriver.Chrome(r\"D:\\Fliprobo\\chromedriver.exe\")"
   ]
  },
  {
   "cell_type": "code",
   "execution_count": 80,
   "id": "319711dc",
   "metadata": {},
   "outputs": [],
   "source": [
    "driver.get(\"https://www.flipkart.com/\")"
   ]
  },
  {
   "cell_type": "code",
   "execution_count": 81,
   "id": "e0c210f8",
   "metadata": {},
   "outputs": [],
   "source": [
    "product = driver.find_element(By.XPATH,\"/html/body/div[1]/div/div[1]/div[1]/div[2]/div[2]/form/div/div/input\")\n",
    "product.send_keys(\"Sunglasses\")"
   ]
  },
  {
   "cell_type": "code",
   "execution_count": 84,
   "id": "93d8cdb2",
   "metadata": {},
   "outputs": [],
   "source": [
    "search = driver.find_element(By.XPATH,\"/html/body/div[1]/div/div[1]/div[1]/div[2]/div[2]/form/div/button\")\n",
    "search.click()"
   ]
  },
  {
   "cell_type": "code",
   "execution_count": 85,
   "id": "25627fa4",
   "metadata": {},
   "outputs": [],
   "source": [
    "#Scraping first 100 brands for sunglasses\n",
    "brand= []  \n",
    "start=0\n",
    "end=3\n",
    "\n",
    "for page in range(start,end):\n",
    "    b=driver.find_elements(By.CLASS_NAME,\"_2WkVRV\")\n",
    "    for i in b:\n",
    "        brand.append(i.text)\n",
    "    next_button = driver.find_element(By.XPATH,\"/html/body/div[1]/div/div[3]/div[1]/div[2]/div[12]/div/div/nav/a[11]\")\n",
    "    next_button.click()\n",
    "    time.sleep(3)\n"
   ]
  },
  {
   "cell_type": "code",
   "execution_count": 86,
   "id": "6951ca94",
   "metadata": {},
   "outputs": [
    {
     "data": {
      "text/plain": [
       "120"
      ]
     },
     "execution_count": 86,
     "metadata": {},
     "output_type": "execute_result"
    }
   ],
   "source": [
    "len(brand)"
   ]
  },
  {
   "cell_type": "code",
   "execution_count": 89,
   "id": "da715ac0",
   "metadata": {},
   "outputs": [],
   "source": [
    "#scraping the description of product\n",
    "pro_des=[]\n",
    "\n",
    "start=0\n",
    "end=3\n",
    "for page in range(start,end):\n",
    "    pds= driver.find_elements(By.CLASS_NAME,\"IRpwTa\")\n",
    "    for i in pds:\n",
    "        pro_des.append(i.text)\n",
    "    next_button = driver.find_element(By.XPATH,\"/html/body/div[1]/div/div[3]/div[1]/div[2]/div[12]/div/div/nav/a[11]\")\n",
    "    next_button.click()\n",
    "    \n"
   ]
  },
  {
   "cell_type": "code",
   "execution_count": 90,
   "id": "17ff78c8",
   "metadata": {},
   "outputs": [
    {
     "data": {
      "text/plain": [
       "120"
      ]
     },
     "execution_count": 90,
     "metadata": {},
     "output_type": "execute_result"
    }
   ],
   "source": [
    "len(pro_des)"
   ]
  },
  {
   "cell_type": "code",
   "execution_count": 91,
   "id": "726956cd",
   "metadata": {},
   "outputs": [],
   "source": [
    "#scraping the price\n",
    "price=[]\n",
    "\n",
    "start=0\n",
    "end=3\n",
    "for page in range(start,end):\n",
    "    pro_price=driver.find_elements(By.CLASS_NAME,\"_2B099V\")\n",
    "    for i in pro_price:\n",
    "        price.append(i.text.split(\"₹\")[1])#Spliited to get only main price and not description or percentage off\n",
    "        \n",
    "    next_button= driver.find_element(By.XPATH,\"/html/body/div[1]/div/div[3]/div[1]/div[2]/div[12]/div/div/nav/a[11]\")\n",
    "    next_button.click()"
   ]
  },
  {
   "cell_type": "code",
   "execution_count": 92,
   "id": "cb23ea06",
   "metadata": {
    "scrolled": true
   },
   "outputs": [
    {
     "data": {
      "text/plain": [
       "120"
      ]
     },
     "execution_count": 92,
     "metadata": {},
     "output_type": "execute_result"
    }
   ],
   "source": [
    "len(price)"
   ]
  },
  {
   "cell_type": "code",
   "execution_count": 93,
   "id": "4ede01d2",
   "metadata": {},
   "outputs": [
    {
     "data": {
      "text/plain": [
       "['699',\n",
       " '798',\n",
       " '675',\n",
       " '1,799',\n",
       " '199',\n",
       " '169',\n",
       " '129',\n",
       " '360',\n",
       " '899',\n",
       " '1,009',\n",
       " '6,469',\n",
       " '899',\n",
       " '699',\n",
       " '474',\n",
       " '1,699',\n",
       " '229',\n",
       " '156',\n",
       " '282',\n",
       " '299',\n",
       " '360',\n",
       " '114',\n",
       " '8,710',\n",
       " '562',\n",
       " '799',\n",
       " '185',\n",
       " '120',\n",
       " '126',\n",
       " '809',\n",
       " '180',\n",
       " '236',\n",
       " '321',\n",
       " '898',\n",
       " '5,829',\n",
       " '699',\n",
       " '99',\n",
       " '229',\n",
       " '431',\n",
       " '498',\n",
       " '650',\n",
       " '289',\n",
       " '699',\n",
       " '798',\n",
       " '675',\n",
       " '1,799',\n",
       " '199',\n",
       " '169',\n",
       " '129',\n",
       " '360',\n",
       " '899',\n",
       " '1,009',\n",
       " '6,469',\n",
       " '899',\n",
       " '699',\n",
       " '474',\n",
       " '1,699',\n",
       " '229',\n",
       " '156',\n",
       " '282',\n",
       " '299',\n",
       " '360',\n",
       " '114',\n",
       " '8,710',\n",
       " '562',\n",
       " '799',\n",
       " '185',\n",
       " '120',\n",
       " '126',\n",
       " '809',\n",
       " '180',\n",
       " '236',\n",
       " '321',\n",
       " '898',\n",
       " '5,829',\n",
       " '699',\n",
       " '99',\n",
       " '229',\n",
       " '431',\n",
       " '498',\n",
       " '650',\n",
       " '289',\n",
       " '699',\n",
       " '798',\n",
       " '675',\n",
       " '1,799',\n",
       " '199',\n",
       " '169',\n",
       " '129',\n",
       " '360',\n",
       " '899',\n",
       " '1,009',\n",
       " '6,469',\n",
       " '899',\n",
       " '699',\n",
       " '474',\n",
       " '1,699',\n",
       " '229',\n",
       " '156',\n",
       " '282',\n",
       " '299',\n",
       " '360',\n",
       " '114',\n",
       " '8,710',\n",
       " '562',\n",
       " '799',\n",
       " '185',\n",
       " '120',\n",
       " '126',\n",
       " '809',\n",
       " '180',\n",
       " '236',\n",
       " '321',\n",
       " '898',\n",
       " '5,829',\n",
       " '699',\n",
       " '99',\n",
       " '229',\n",
       " '431',\n",
       " '498',\n",
       " '650',\n",
       " '289']"
      ]
     },
     "execution_count": 93,
     "metadata": {},
     "output_type": "execute_result"
    }
   ],
   "source": [
    "price   # all products final price "
   ]
  },
  {
   "cell_type": "code",
   "execution_count": 101,
   "id": "58bcd674",
   "metadata": {},
   "outputs": [],
   "source": [
    "discount=[]  # as ticked in photo given in assisgnment scraping discount\n",
    "\n",
    "start=0\n",
    "end=3\n",
    "for page in range(start,end):\n",
    "    pro_dis=driver.find_elements(By.CLASS_NAME,\"_3Ay6Sb\")\n",
    "    for i in pro_dis:\n",
    "        discount.append(i.text)\n",
    "        \n",
    "    next_button= driver.find_element(By.XPATH,\"/html/body/div[1]/div/div[3]/div[1]/div[2]/div[12]/div/div/nav/a[11]\")\n",
    "    next_button.click()"
   ]
  },
  {
   "cell_type": "code",
   "execution_count": 102,
   "id": "25dccdb1",
   "metadata": {},
   "outputs": [
    {
     "name": "stdout",
     "output_type": "stream",
     "text": [
      "135\n"
     ]
    }
   ],
   "source": [
    "print(len(discount))"
   ]
  },
  {
   "cell_type": "code",
   "execution_count": 108,
   "id": "fe8f996e",
   "metadata": {},
   "outputs": [
    {
     "data": {
      "text/plain": [
       "['65% off',\n",
       " '75% off',\n",
       " '68% off',\n",
       " '77% off',\n",
       " '89% off',\n",
       " '75% off',\n",
       " '74% off',\n",
       " '75% off',\n",
       " '45% off',\n",
       " '75% off',\n",
       " '10% off',\n",
       " '64% off',\n",
       " '65% off',\n",
       " '68% off',\n",
       " '34% off',\n",
       " '80% off',\n",
       " '68% off',\n",
       " '59% off',\n",
       " '85% off',\n",
       " '75% off',\n",
       " '77% off',\n",
       " '21% off',\n",
       " '82% off',\n",
       " '60% off',\n",
       " '80% off',\n",
       " '79% off',\n",
       " '92% off',\n",
       " '68% off',\n",
       " '87% off',\n",
       " '80% off',\n",
       " '78% off',\n",
       " '75% off',\n",
       " '20% off',\n",
       " '61% off',\n",
       " '86% off',\n",
       " '80% off',\n",
       " '71% off',\n",
       " '67% off',\n",
       " '49% off',\n",
       " '71% off',\n",
       " '25% off',\n",
       " '25% off',\n",
       " '82% off',\n",
       " '73% off',\n",
       " '24% off',\n",
       " '65% off',\n",
       " '75% off',\n",
       " '68% off',\n",
       " '77% off',\n",
       " '89% off',\n",
       " '75% off',\n",
       " '74% off',\n",
       " '75% off',\n",
       " '45% off',\n",
       " '75% off',\n",
       " '10% off',\n",
       " '64% off',\n",
       " '65% off',\n",
       " '68% off',\n",
       " '34% off',\n",
       " '80% off',\n",
       " '68% off',\n",
       " '59% off',\n",
       " '85% off',\n",
       " '75% off',\n",
       " '77% off',\n",
       " '21% off',\n",
       " '82% off',\n",
       " '60% off',\n",
       " '80% off',\n",
       " '79% off',\n",
       " '92% off',\n",
       " '68% off',\n",
       " '87% off',\n",
       " '80% off',\n",
       " '78% off',\n",
       " '75% off',\n",
       " '20% off',\n",
       " '61% off',\n",
       " '86% off',\n",
       " '80% off',\n",
       " '71% off',\n",
       " '67% off',\n",
       " '49% off',\n",
       " '71% off',\n",
       " '25% off',\n",
       " '25% off',\n",
       " '82% off',\n",
       " '73% off',\n",
       " '24% off',\n",
       " '65% off',\n",
       " '75% off',\n",
       " '68% off',\n",
       " '77% off',\n",
       " '89% off',\n",
       " '75% off',\n",
       " '74% off',\n",
       " '75% off',\n",
       " '45% off',\n",
       " '75% off',\n",
       " '10% off',\n",
       " '64% off',\n",
       " '65% off',\n",
       " '68% off',\n",
       " '34% off',\n",
       " '80% off',\n",
       " '68% off',\n",
       " '59% off',\n",
       " '85% off',\n",
       " '75% off',\n",
       " '77% off',\n",
       " '21% off',\n",
       " '82% off',\n",
       " '60% off',\n",
       " '80% off',\n",
       " '79% off',\n",
       " '92% off',\n",
       " '68% off',\n",
       " '87% off',\n",
       " '80% off']"
      ]
     },
     "execution_count": 108,
     "metadata": {},
     "output_type": "execute_result"
    }
   ],
   "source": [
    "d=discount[0:120] #making it of same length as price brand and description columns\n",
    "d"
   ]
  },
  {
   "cell_type": "code",
   "execution_count": 109,
   "id": "cf2dddda",
   "metadata": {},
   "outputs": [
    {
     "name": "stdout",
     "output_type": "stream",
     "text": [
      "120\n"
     ]
    }
   ],
   "source": [
    "print(len(d))"
   ]
  },
  {
   "cell_type": "code",
   "execution_count": 110,
   "id": "4fe4db47",
   "metadata": {},
   "outputs": [
    {
     "data": {
      "text/html": [
       "<div>\n",
       "<style scoped>\n",
       "    .dataframe tbody tr th:only-of-type {\n",
       "        vertical-align: middle;\n",
       "    }\n",
       "\n",
       "    .dataframe tbody tr th {\n",
       "        vertical-align: top;\n",
       "    }\n",
       "\n",
       "    .dataframe thead th {\n",
       "        text-align: right;\n",
       "    }\n",
       "</style>\n",
       "<table border=\"1\" class=\"dataframe\">\n",
       "  <thead>\n",
       "    <tr style=\"text-align: right;\">\n",
       "      <th></th>\n",
       "      <th>Brand</th>\n",
       "      <th>Product_description</th>\n",
       "      <th>Price</th>\n",
       "      <th>Discount</th>\n",
       "    </tr>\n",
       "  </thead>\n",
       "  <tbody>\n",
       "    <tr>\n",
       "      <th>0</th>\n",
       "      <td>GANSTA</td>\n",
       "      <td>Polarized, UV Protection Round Sunglasses (55)</td>\n",
       "      <td>699</td>\n",
       "      <td>65% off</td>\n",
       "    </tr>\n",
       "    <tr>\n",
       "      <th>1</th>\n",
       "      <td>Floyd</td>\n",
       "      <td>Toughened Glass Lens, UV Protection Aviator Su...</td>\n",
       "      <td>798</td>\n",
       "      <td>75% off</td>\n",
       "    </tr>\n",
       "    <tr>\n",
       "      <th>2</th>\n",
       "      <td>Fastrack</td>\n",
       "      <td>UV Protection, Gradient Aviator Sunglasses (61)</td>\n",
       "      <td>675</td>\n",
       "      <td>68% off</td>\n",
       "    </tr>\n",
       "    <tr>\n",
       "      <th>3</th>\n",
       "      <td>Fastrack</td>\n",
       "      <td>Mirrored, UV Protection, Riding Glasses Retro ...</td>\n",
       "      <td>1,799</td>\n",
       "      <td>77% off</td>\n",
       "    </tr>\n",
       "    <tr>\n",
       "      <th>4</th>\n",
       "      <td>Fastrack</td>\n",
       "      <td>UV Protection Aviator, Wayfarer Sunglasses (Fr...</td>\n",
       "      <td>199</td>\n",
       "      <td>89% off</td>\n",
       "    </tr>\n",
       "    <tr>\n",
       "      <th>...</th>\n",
       "      <td>...</td>\n",
       "      <td>...</td>\n",
       "      <td>...</td>\n",
       "      <td>...</td>\n",
       "    </tr>\n",
       "    <tr>\n",
       "      <th>95</th>\n",
       "      <td>ROYAL SON</td>\n",
       "      <td>UV Protection Aviator Sunglasses (58)</td>\n",
       "      <td>229</td>\n",
       "      <td>75% off</td>\n",
       "    </tr>\n",
       "    <tr>\n",
       "      <th>96</th>\n",
       "      <td>Dannilo</td>\n",
       "      <td>UV Protection Round, Aviator Sunglasses (Free ...</td>\n",
       "      <td>156</td>\n",
       "      <td>74% off</td>\n",
       "    </tr>\n",
       "    <tr>\n",
       "      <th>97</th>\n",
       "      <td>Elligator</td>\n",
       "      <td>Riding Glasses, UV Protection Round Sunglasses...</td>\n",
       "      <td>282</td>\n",
       "      <td>75% off</td>\n",
       "    </tr>\n",
       "    <tr>\n",
       "      <th>98</th>\n",
       "      <td>AISLIN</td>\n",
       "      <td>UV Protection Retro Square Sunglasses (Free Size)</td>\n",
       "      <td>299</td>\n",
       "      <td>45% off</td>\n",
       "    </tr>\n",
       "    <tr>\n",
       "      <th>99</th>\n",
       "      <td>ROYAL SON</td>\n",
       "      <td>UV Protection, Riding Glasses, Mirrored Sports...</td>\n",
       "      <td>360</td>\n",
       "      <td>75% off</td>\n",
       "    </tr>\n",
       "  </tbody>\n",
       "</table>\n",
       "<p>100 rows × 4 columns</p>\n",
       "</div>"
      ],
      "text/plain": [
       "        Brand                                Product_description  Price  \\\n",
       "0      GANSTA     Polarized, UV Protection Round Sunglasses (55)    699   \n",
       "1       Floyd  Toughened Glass Lens, UV Protection Aviator Su...    798   \n",
       "2    Fastrack    UV Protection, Gradient Aviator Sunglasses (61)    675   \n",
       "3    Fastrack  Mirrored, UV Protection, Riding Glasses Retro ...  1,799   \n",
       "4    Fastrack  UV Protection Aviator, Wayfarer Sunglasses (Fr...    199   \n",
       "..        ...                                                ...    ...   \n",
       "95  ROYAL SON              UV Protection Aviator Sunglasses (58)    229   \n",
       "96    Dannilo  UV Protection Round, Aviator Sunglasses (Free ...    156   \n",
       "97  Elligator  Riding Glasses, UV Protection Round Sunglasses...    282   \n",
       "98     AISLIN  UV Protection Retro Square Sunglasses (Free Size)    299   \n",
       "99  ROYAL SON  UV Protection, Riding Glasses, Mirrored Sports...    360   \n",
       "\n",
       "   Discount  \n",
       "0   65% off  \n",
       "1   75% off  \n",
       "2   68% off  \n",
       "3   77% off  \n",
       "4   89% off  \n",
       "..      ...  \n",
       "95  75% off  \n",
       "96  74% off  \n",
       "97  75% off  \n",
       "98  45% off  \n",
       "99  75% off  \n",
       "\n",
       "[100 rows x 4 columns]"
      ]
     },
     "execution_count": 110,
     "metadata": {},
     "output_type": "execute_result"
    }
   ],
   "source": [
    "import  pandas as pd\n",
    "Sunglasses = pd.DataFrame({\"Brand\":brand,\"Product_description\":pro_des,\"Price\":price,'Discount':d})\n",
    "Sunglasses=Sunglasses.loc[0:99,]\n",
    "Sunglasses    #final dataframe"
   ]
  },
  {
   "cell_type": "code",
   "execution_count": null,
   "id": "1c9527bf",
   "metadata": {},
   "outputs": [],
   "source": []
  },
  {
   "cell_type": "markdown",
   "id": "342ab017",
   "metadata": {},
   "source": [
    "# Ans 5"
   ]
  },
  {
   "cell_type": "code",
   "execution_count": 94,
   "id": "db9b4fea",
   "metadata": {},
   "outputs": [],
   "source": [
    "import selenium\n",
    "from selenium import webdriver\n",
    "from selenium.common.exceptions import StaleElementReferenceException, NoSuchElementException\n",
    "from selenium.webdriver.common.by import By\n",
    "\n",
    "import pandas as pd\n",
    "\n",
    "import warnings\n",
    "warnings.filterwarnings('ignore')\n",
    "\n",
    "import time"
   ]
  },
  {
   "cell_type": "code",
   "execution_count": 95,
   "id": "f895609f",
   "metadata": {},
   "outputs": [],
   "source": [
    "driver= webdriver.Chrome(r\"D:\\Fliprobo\\chromedriver.exe\")"
   ]
  },
  {
   "cell_type": "code",
   "execution_count": 96,
   "id": "f655eda9",
   "metadata": {},
   "outputs": [],
   "source": [
    "driver.get(\"https://www.flipkart.com/\")"
   ]
  },
  {
   "cell_type": "code",
   "execution_count": 97,
   "id": "0bf91bf0",
   "metadata": {},
   "outputs": [],
   "source": [
    "#giving product name to search\n",
    "product =driver.find_element(By.XPATH,\"/html/body/div[1]/div/div[1]/div[1]/div[2]/div[2]/form/div/div/input\")\n",
    "product.send_keys(\"iphone 11\")"
   ]
  },
  {
   "cell_type": "code",
   "execution_count": 98,
   "id": "25cd7e6b",
   "metadata": {},
   "outputs": [],
   "source": [
    "#clicking on search button\n",
    "search = driver.find_element(By.CLASS_NAME,\"L0Z3Pu\")\n",
    "search.click()"
   ]
  },
  {
   "cell_type": "code",
   "execution_count": 99,
   "id": "0b660da3",
   "metadata": {},
   "outputs": [],
   "source": [
    "#Clicking on iphone 11 for reviews\n",
    "Black_Iphone= driver.find_element(By.XPATH,\"/html/body/div[1]/div/div[3]/div[1]/div[2]/div[3]/div/div/div/a/div[2]/div[1]/div[1]\")\n",
    "Black_Iphone.click()"
   ]
  },
  {
   "cell_type": "code",
   "execution_count": 9,
   "id": "7179bd3f",
   "metadata": {},
   "outputs": [],
   "source": [
    "#Clicking on all reviews manually as suggested by my SME due to some unevitable errors\n",
    "#after clicking scraping the reviews"
   ]
  },
  {
   "cell_type": "code",
   "execution_count": 107,
   "id": "c34bc804",
   "metadata": {
    "scrolled": true
   },
   "outputs": [],
   "source": [
    "urls=[]\n",
    "url_1 = driver.find_elements(By.XPATH,\"//a[@class='ge-49M _2Kfbh8']\")\n",
    "\n",
    "for i in url_1:\n",
    "\n",
    "    urls.append(i.get_attribute('href'))\n",
    "\n",
    "url_2 = driver.find_elements(By.XPATH,\"//a[@class='ge-49M']\")\n",
    "\n",
    "for i in url_2:\n",
    "\n",
    "    urls.append(i.get_attribute('href'))\n",
    "\n",
    "time.sleep(4)\n",
    "\n",
    "\n",
    "rating_summary=[]\n",
    "start=0\n",
    "end=2\n",
    "\n",
    "for page in range(start,end):\n",
    "    rs=driver.find_elements(By.XPATH,'//div[@class=\"_3LWZlK _1BLPMq\"]')\n",
    "    for i in rs:\n",
    "        rating_summary.append(i.text)\n"
   ]
  },
  {
   "cell_type": "code",
   "execution_count": 108,
   "id": "592db853",
   "metadata": {},
   "outputs": [
    {
     "data": {
      "text/plain": [
       "[]"
      ]
     },
     "execution_count": 108,
     "metadata": {},
     "output_type": "execute_result"
    }
   ],
   "source": [
    "rating_summary"
   ]
  },
  {
   "cell_type": "code",
   "execution_count": 188,
   "id": "a87fb880",
   "metadata": {},
   "outputs": [],
   "source": [
    "description=[]\n",
    "start=0\n",
    "end=3\n",
    "\n",
    "for page in range(start,end):\n",
    "    rd=driver.find_elements(By.XPATH,'//div[@class=\"t-ZTKy\"]')\n",
    "    for i in rd:\n",
    "        description.append(i.text)\n",
    "    \n",
    "    "
   ]
  },
  {
   "cell_type": "code",
   "execution_count": null,
   "id": "71c8bd9b",
   "metadata": {},
   "outputs": [],
   "source": []
  },
  {
   "cell_type": "markdown",
   "id": "bf54f8c5",
   "metadata": {},
   "source": [
    "# Ans6"
   ]
  },
  {
   "cell_type": "code",
   "execution_count": 319,
   "id": "7cd46a28",
   "metadata": {},
   "outputs": [],
   "source": [
    "import selenium\n",
    "from selenium import webdriver\n",
    "from selenium.common.exceptions import StaleElementReferenceException, NoSuchElementException\n",
    "from selenium.webdriver.common.by import By\n",
    "\n",
    "import pandas as pd\n",
    "\n",
    "import warnings\n",
    "warnings.filterwarnings('ignore')\n",
    "\n",
    "import time"
   ]
  },
  {
   "cell_type": "code",
   "execution_count": 320,
   "id": "76dd8241",
   "metadata": {},
   "outputs": [],
   "source": [
    "driver= webdriver.Chrome(r\"D:\\Fliprobo\\chromedriver.exe\")"
   ]
  },
  {
   "cell_type": "code",
   "execution_count": 321,
   "id": "1a7e2733",
   "metadata": {},
   "outputs": [],
   "source": [
    "driver.get(\"https://www.flipkart.com/\")"
   ]
  },
  {
   "cell_type": "code",
   "execution_count": 322,
   "id": "686e2494",
   "metadata": {},
   "outputs": [],
   "source": [
    "#giving product name to search\n",
    "product =driver.find_element(By.XPATH,\"/html/body/div[1]/div/div[1]/div[1]/div[2]/div[2]/form/div/div/input\")\n",
    "product.send_keys(\"sneakers\")"
   ]
  },
  {
   "cell_type": "code",
   "execution_count": 323,
   "id": "96ba9ec9",
   "metadata": {},
   "outputs": [],
   "source": [
    "search = driver.find_element(By.CLASS_NAME,\"L0Z3Pu\")\n",
    "search.click()"
   ]
  },
  {
   "cell_type": "code",
   "execution_count": 324,
   "id": "8d875cd4",
   "metadata": {},
   "outputs": [],
   "source": [
    "#Scraping the brand name\n",
    "brand=[]\n",
    "start=0\n",
    "end=3\n",
    "\n",
    "for page in range(start,end):\n",
    "    b=driver.find_elements(By.CLASS_NAME,\"_2WkVRV\")\n",
    "    for i in b:\n",
    "        brand.append(i.text)\n",
    "    next_button=driver.find_element(By.CLASS_NAME,\"_1LKTO3\")\n",
    "    next_button.click()\n",
    "    time.sleep(3)\n",
    "    "
   ]
  },
  {
   "cell_type": "code",
   "execution_count": 325,
   "id": "31134318",
   "metadata": {},
   "outputs": [
    {
     "name": "stdout",
     "output_type": "stream",
     "text": [
      "120\n"
     ]
    }
   ],
   "source": [
    "print(len(brand))"
   ]
  },
  {
   "cell_type": "code",
   "execution_count": 328,
   "id": "d61358fd",
   "metadata": {},
   "outputs": [],
   "source": [
    "#scraping the product description\n",
    "Description= []  \n",
    "start=0\n",
    "end=3\n",
    "\n",
    "for page in range(start,end):\n",
    "    pro_des=driver.find_elements(By.CLASS_NAME,'IRpwTa')\n",
    "    for i in pro_des:\n",
    "        Description.append(i.text)\n",
    "    next_button = driver.find_element(By.CLASS_NAME,\"_1LKTO3\")\n",
    "    next_button.click()\n",
    "    time.sleep(3)"
   ]
  },
  {
   "cell_type": "code",
   "execution_count": 329,
   "id": "598937fa",
   "metadata": {},
   "outputs": [
    {
     "name": "stdout",
     "output_type": "stream",
     "text": [
      "120\n"
     ]
    }
   ],
   "source": [
    "print(len(Description))"
   ]
  },
  {
   "cell_type": "code",
   "execution_count": 330,
   "id": "cffdc330",
   "metadata": {},
   "outputs": [],
   "source": [
    "#scraping the price \n",
    "Price=[]\n",
    "start=0\n",
    "end=3\n",
    "\n",
    "for page in range(start,end):\n",
    "    p=driver.find_elements(By.CLASS_NAME,\"_30jeq3\")\n",
    "    for i in p:\n",
    "        Price.append(i.text)\n",
    "    next_button=driver.find_element(By.XPATH,\"/html/body/div[1]/div/div[3]/div[1]/div[2]/div[12]/div/div/nav/a[11]\")\n",
    "    next_button.click()\n",
    "    time.sleep(3)"
   ]
  },
  {
   "cell_type": "code",
   "execution_count": 331,
   "id": "6dcbc10a",
   "metadata": {},
   "outputs": [
    {
     "name": "stdout",
     "output_type": "stream",
     "text": [
      "135\n"
     ]
    }
   ],
   "source": [
    "print(len(Price))"
   ]
  },
  {
   "cell_type": "code",
   "execution_count": 332,
   "id": "f6350cdc",
   "metadata": {},
   "outputs": [
    {
     "name": "stdout",
     "output_type": "stream",
     "text": [
      "120\n"
     ]
    }
   ],
   "source": [
    "P= Price[0:120] #making it match the other lengths\n",
    "\n",
    "print(len(P))"
   ]
  },
  {
   "cell_type": "code",
   "execution_count": 337,
   "id": "50b02247",
   "metadata": {},
   "outputs": [],
   "source": [
    "#Scraping the discount value\n",
    "discount=[]\n",
    "start=0\n",
    "end=3\n",
    "\n",
    "for page in range(start,end):\n",
    "    d= driver.find_elements(By.CLASS_NAME,\"_3Ay6Sb\")\n",
    "    for i in d:\n",
    "        discount.append(i.text)\n",
    "    next_button=driver.find_element(By.XPATH,\"/html/body/div[1]/div/div[3]/div[1]/div[2]/div[12]/div/div/nav/a[11]\")\n",
    "    next_button.click()\n",
    "    time.sleep(3)"
   ]
  },
  {
   "cell_type": "code",
   "execution_count": 338,
   "id": "deecf657",
   "metadata": {},
   "outputs": [
    {
     "name": "stdout",
     "output_type": "stream",
     "text": [
      "134\n"
     ]
    }
   ],
   "source": [
    "print(len(discount))"
   ]
  },
  {
   "cell_type": "code",
   "execution_count": 339,
   "id": "14cf7f2c",
   "metadata": {},
   "outputs": [
    {
     "data": {
      "text/plain": [
       "['71% off',\n",
       " '80% off',\n",
       " '81% off',\n",
       " '74% off',\n",
       " '70% off',\n",
       " '52% off',\n",
       " '47% off',\n",
       " '80% off',\n",
       " '60% off',\n",
       " '75% off',\n",
       " '55% off',\n",
       " '66% off',\n",
       " '62% off',\n",
       " '76% off',\n",
       " '50% off',\n",
       " '70% off',\n",
       " '55% off',\n",
       " '76% off',\n",
       " '62% off',\n",
       " '79% off',\n",
       " '41% off',\n",
       " '47% off',\n",
       " '60% off',\n",
       " '40% off',\n",
       " '52% off',\n",
       " '50% off',\n",
       " '53% off',\n",
       " '58% off',\n",
       " '50% off',\n",
       " '15% off',\n",
       " '15% off',\n",
       " '47% off',\n",
       " '76% off',\n",
       " '58% off',\n",
       " '67% off',\n",
       " '75% off',\n",
       " '75% off',\n",
       " '50% off',\n",
       " '62% off',\n",
       " '70% off',\n",
       " '55% off',\n",
       " '58% off',\n",
       " '81% off',\n",
       " '79% off',\n",
       " '53% off',\n",
       " '47% off',\n",
       " '64% off',\n",
       " '64% off',\n",
       " '69% off',\n",
       " '30% off',\n",
       " '61% off',\n",
       " '43% off',\n",
       " '71% off',\n",
       " '52% off',\n",
       " '53% off',\n",
       " '50% off',\n",
       " '54% off',\n",
       " '64% off',\n",
       " '71% off',\n",
       " '61% off',\n",
       " '15% off',\n",
       " '29% off',\n",
       " '58% off',\n",
       " '46% off',\n",
       " '66% off',\n",
       " '55% off',\n",
       " '34% off',\n",
       " '50% off',\n",
       " '46% off',\n",
       " '60% off',\n",
       " '50% off',\n",
       " '55% off',\n",
       " '40% off',\n",
       " '50% off',\n",
       " '59% off',\n",
       " '62% off',\n",
       " '47% off',\n",
       " '64% off',\n",
       " '72% off',\n",
       " '71% off',\n",
       " '4% off',\n",
       " '50% off',\n",
       " '42% off',\n",
       " '15% off',\n",
       " '55% off',\n",
       " '58% off',\n",
       " '81% off',\n",
       " '79% off',\n",
       " '53% off',\n",
       " '52% off',\n",
       " '57% off',\n",
       " '42% off',\n",
       " '51% off',\n",
       " '50% off',\n",
       " '53% off',\n",
       " '74% off',\n",
       " '53% off',\n",
       " '43% off',\n",
       " '73% off',\n",
       " '70% off',\n",
       " '30% off',\n",
       " '40% off',\n",
       " '61% off',\n",
       " '70% off',\n",
       " '28% off',\n",
       " '46% off',\n",
       " '51% off',\n",
       " '72% off',\n",
       " '28% off',\n",
       " '75% off',\n",
       " '46% off',\n",
       " '15% off',\n",
       " '50% off',\n",
       " '36% off',\n",
       " '62% off',\n",
       " '46% off',\n",
       " '62% off',\n",
       " '34% off',\n",
       " '50% off',\n",
       " '68% off']"
      ]
     },
     "execution_count": 339,
     "metadata": {},
     "output_type": "execute_result"
    }
   ],
   "source": [
    "d=discount[0:120] #making it match the other lengths\n",
    "d"
   ]
  },
  {
   "cell_type": "code",
   "execution_count": 340,
   "id": "1b925011",
   "metadata": {},
   "outputs": [
    {
     "name": "stdout",
     "output_type": "stream",
     "text": [
      "120 120 120 120\n"
     ]
    }
   ],
   "source": [
    "print(len(brand),len(Description),len(P),len(d))"
   ]
  },
  {
   "cell_type": "code",
   "execution_count": 341,
   "id": "a48a880b",
   "metadata": {},
   "outputs": [
    {
     "data": {
      "text/html": [
       "<div>\n",
       "<style scoped>\n",
       "    .dataframe tbody tr th:only-of-type {\n",
       "        vertical-align: middle;\n",
       "    }\n",
       "\n",
       "    .dataframe tbody tr th {\n",
       "        vertical-align: top;\n",
       "    }\n",
       "\n",
       "    .dataframe thead th {\n",
       "        text-align: right;\n",
       "    }\n",
       "</style>\n",
       "<table border=\"1\" class=\"dataframe\">\n",
       "  <thead>\n",
       "    <tr style=\"text-align: right;\">\n",
       "      <th></th>\n",
       "      <th>Brand</th>\n",
       "      <th>Product_descripton</th>\n",
       "      <th>Price</th>\n",
       "      <th>Discount</th>\n",
       "    </tr>\n",
       "  </thead>\n",
       "  <tbody>\n",
       "    <tr>\n",
       "      <th>0</th>\n",
       "      <td>Shozie</td>\n",
       "      <td>Stylish Walking Partywear Sneakers Casual Shoe...</td>\n",
       "      <td>₹380</td>\n",
       "      <td>71% off</td>\n",
       "    </tr>\n",
       "    <tr>\n",
       "      <th>1</th>\n",
       "      <td>Shozie</td>\n",
       "      <td>Stylish Comfortable Casual Sneakers Shoes for ...</td>\n",
       "      <td>₹829</td>\n",
       "      <td>80% off</td>\n",
       "    </tr>\n",
       "    <tr>\n",
       "      <th>2</th>\n",
       "      <td>Chevit</td>\n",
       "      <td>Super Stylish &amp; Trendy Combo Pack of 02 Pairs ...</td>\n",
       "      <td>₹544</td>\n",
       "      <td>81% off</td>\n",
       "    </tr>\n",
       "    <tr>\n",
       "      <th>3</th>\n",
       "      <td>KWIK FIT</td>\n",
       "      <td>Kwik FIT casual sneaker shoes and partywear sh...</td>\n",
       "      <td>₹397</td>\n",
       "      <td>74% off</td>\n",
       "    </tr>\n",
       "    <tr>\n",
       "      <th>4</th>\n",
       "      <td>aadi</td>\n",
       "      <td>Mesh | Ultralightweight | Comfortable | Breath...</td>\n",
       "      <td>₹374</td>\n",
       "      <td>70% off</td>\n",
       "    </tr>\n",
       "    <tr>\n",
       "      <th>...</th>\n",
       "      <td>...</td>\n",
       "      <td>...</td>\n",
       "      <td>...</td>\n",
       "      <td>...</td>\n",
       "    </tr>\n",
       "    <tr>\n",
       "      <th>95</th>\n",
       "      <td>DURANE</td>\n",
       "      <td>Lazy Knit Slip On Sneakers For Men</td>\n",
       "      <td>₹2,563</td>\n",
       "      <td>74% off</td>\n",
       "    </tr>\n",
       "    <tr>\n",
       "      <th>96</th>\n",
       "      <td>Magnolia</td>\n",
       "      <td>Modern Trendy Sneakers boot Sneakers For Men</td>\n",
       "      <td>₹501</td>\n",
       "      <td>53% off</td>\n",
       "    </tr>\n",
       "    <tr>\n",
       "      <th>97</th>\n",
       "      <td>PUMA</td>\n",
       "      <td>Sneakers For Men</td>\n",
       "      <td>₹569</td>\n",
       "      <td>43% off</td>\n",
       "    </tr>\n",
       "    <tr>\n",
       "      <th>98</th>\n",
       "      <td>Layasa</td>\n",
       "      <td>Luxury Branded Fashionable Men's Casual Walkin...</td>\n",
       "      <td>₹5,699</td>\n",
       "      <td>73% off</td>\n",
       "    </tr>\n",
       "    <tr>\n",
       "      <th>99</th>\n",
       "      <td>WARMFEET</td>\n",
       "      <td>Sneakers For Men</td>\n",
       "      <td>₹265</td>\n",
       "      <td>70% off</td>\n",
       "    </tr>\n",
       "  </tbody>\n",
       "</table>\n",
       "<p>100 rows × 4 columns</p>\n",
       "</div>"
      ],
      "text/plain": [
       "       Brand                                 Product_descripton   Price  \\\n",
       "0     Shozie  Stylish Walking Partywear Sneakers Casual Shoe...    ₹380   \n",
       "1     Shozie  Stylish Comfortable Casual Sneakers Shoes for ...    ₹829   \n",
       "2     Chevit  Super Stylish & Trendy Combo Pack of 02 Pairs ...    ₹544   \n",
       "3   KWIK FIT  Kwik FIT casual sneaker shoes and partywear sh...    ₹397   \n",
       "4       aadi  Mesh | Ultralightweight | Comfortable | Breath...    ₹374   \n",
       "..       ...                                                ...     ...   \n",
       "95    DURANE                 Lazy Knit Slip On Sneakers For Men  ₹2,563   \n",
       "96  Magnolia       Modern Trendy Sneakers boot Sneakers For Men    ₹501   \n",
       "97      PUMA                                   Sneakers For Men    ₹569   \n",
       "98    Layasa  Luxury Branded Fashionable Men's Casual Walkin...  ₹5,699   \n",
       "99  WARMFEET                                   Sneakers For Men    ₹265   \n",
       "\n",
       "   Discount  \n",
       "0   71% off  \n",
       "1   80% off  \n",
       "2   81% off  \n",
       "3   74% off  \n",
       "4   70% off  \n",
       "..      ...  \n",
       "95  74% off  \n",
       "96  53% off  \n",
       "97  43% off  \n",
       "98  73% off  \n",
       "99  70% off  \n",
       "\n",
       "[100 rows x 4 columns]"
      ]
     },
     "execution_count": 341,
     "metadata": {},
     "output_type": "execute_result"
    }
   ],
   "source": [
    "Sneakers=pd.DataFrame({\"Brand\":brand,\"Product_descripton\":Description,\"Price\":P,\"Discount\":d})\n",
    "Sneakers=Sneakers[0:100] #selecting first 100 \n",
    "Sneakers   #final Dataframe"
   ]
  },
  {
   "cell_type": "markdown",
   "id": "2186d657",
   "metadata": {},
   "source": [
    "# Ans 7"
   ]
  },
  {
   "cell_type": "code",
   "execution_count": 349,
   "id": "9e40ba8f",
   "metadata": {},
   "outputs": [],
   "source": [
    "import selenium\n",
    "from selenium.common.exceptions import StaleElementReferenceException, NoSuchElementException\n",
    "from selenium import webdriver\n",
    "from selenium.webdriver.common.by import By\n",
    "\n",
    "import pandas as pd\n",
    "\n",
    "import warnings\n",
    "warnings.filterwarnings('ignore')\n",
    "\n",
    "import time"
   ]
  },
  {
   "cell_type": "code",
   "execution_count": 352,
   "id": "61e0e811",
   "metadata": {},
   "outputs": [],
   "source": [
    "driver = webdriver.Chrome(r\"D:\\Fliprobo\\chromedriver.exe\")"
   ]
  },
  {
   "cell_type": "code",
   "execution_count": 353,
   "id": "f05e934f",
   "metadata": {},
   "outputs": [],
   "source": [
    "driver.get(\"https://www.myntra.com/shoes\")"
   ]
  },
  {
   "cell_type": "markdown",
   "id": "664cd59f",
   "metadata": {},
   "source": [
    "Note for Ques7:\n",
    "    Tried to inspect the site but right click is not working on that site."
   ]
  },
  {
   "cell_type": "code",
   "execution_count": null,
   "id": "13d410e4",
   "metadata": {},
   "outputs": [],
   "source": []
  },
  {
   "cell_type": "markdown",
   "id": "7205048c",
   "metadata": {},
   "source": [
    "# Ans8"
   ]
  },
  {
   "cell_type": "code",
   "execution_count": 128,
   "id": "49aac26a",
   "metadata": {},
   "outputs": [],
   "source": [
    "import selenium\n",
    "from selenium import webdriver\n",
    "from selenium.common.exceptions import StaleElementReferenceException, NoSuchElementException\n",
    "from selenium.webdriver.common.by import By\n",
    "\n",
    "import pandas as pd\n",
    "\n",
    "import warnings\n",
    "warnings.filterwarnings('ignore')\n",
    "\n",
    "import time"
   ]
  },
  {
   "cell_type": "code",
   "execution_count": 129,
   "id": "55005059",
   "metadata": {},
   "outputs": [],
   "source": [
    "driver = webdriver.Chrome(r\"D:\\Fliprobo\\chromedriver.exe\")"
   ]
  },
  {
   "cell_type": "code",
   "execution_count": 130,
   "id": "16075df5",
   "metadata": {},
   "outputs": [],
   "source": [
    "driver.get(\" https://www.amazon.in/\")"
   ]
  },
  {
   "cell_type": "code",
   "execution_count": 131,
   "id": "d98e8320",
   "metadata": {},
   "outputs": [],
   "source": [
    "#giving the product name\n",
    "product = driver.find_element(By.XPATH,\"/html/body/div[1]/header/div/div[1]/div[2]/div/form/div[2]/div[1]/input\")\n",
    "product.send_keys(\"laptop\")"
   ]
  },
  {
   "cell_type": "code",
   "execution_count": 132,
   "id": "c2922b24",
   "metadata": {},
   "outputs": [],
   "source": [
    "#Clicking on search button\n",
    "search = driver.find_element(By.XPATH,\"/html/body/div[1]/header/div/div[1]/div[2]/div/form/div[3]/div/span/input\")\n",
    "search.click()"
   ]
  },
  {
   "cell_type": "code",
   "execution_count": 133,
   "id": "44eec4db",
   "metadata": {},
   "outputs": [],
   "source": [
    "#applying filter to \"intel core i7\" in CPU type\n",
    "filter=driver.find_element(By.XPATH,\"/html/body/div[1]/div[2]/div[1]/div[2]/div/div[3]/span/div[1]/div/div/div[6]/ul[4]/li[13]/span/a/span\")\n",
    "filter.click()"
   ]
  },
  {
   "cell_type": "code",
   "execution_count": 135,
   "id": "1e7b0ca9",
   "metadata": {},
   "outputs": [],
   "source": [
    "#Scraping the names of laptop\n",
    "title=[]\n",
    "t=driver.find_elements(By.XPATH,'//span[@class=\"a-size-medium a-color-base a-text-normal\"]')\n",
    "for i in t[0:10]:\n",
    "    title.append(i.text)\n",
    "    \n",
    "#Scraping the rating of laptops\n",
    "Rating=[]\n",
    "titles_rat=driver.find_elements(By.XPATH,\"//div[@class='a-row a-size-small']/span\")\n",
    "for i in titles_rat:\n",
    "    Rating.append(i.get_attribute(\"aria-label\"))\n",
    "rating=[]\n",
    "for i in range(0,len(Rating))[0:20]:\n",
    "    if i == 0 or  i/2 == i//2:\n",
    "        rating.append(Rating[i][0:3])\n",
    "        \n",
    "#scraping the price of laptop\n",
    "price=[]\n",
    "p=driver.find_elements(By.XPATH,'//span[@class=\"a-price-whole\"]')\n",
    "for i in p[0:10]:\n",
    "    price.append(i.text)\n",
    "    \n",
    "    "
   ]
  },
  {
   "cell_type": "code",
   "execution_count": 136,
   "id": "95c292d9",
   "metadata": {},
   "outputs": [
    {
     "name": "stdout",
     "output_type": "stream",
     "text": [
      "10 10 10\n"
     ]
    }
   ],
   "source": [
    "print(len(title),len(rating),len(price))"
   ]
  },
  {
   "cell_type": "code",
   "execution_count": 137,
   "id": "971e5c11",
   "metadata": {},
   "outputs": [
    {
     "data": {
      "text/html": [
       "<div>\n",
       "<style scoped>\n",
       "    .dataframe tbody tr th:only-of-type {\n",
       "        vertical-align: middle;\n",
       "    }\n",
       "\n",
       "    .dataframe tbody tr th {\n",
       "        vertical-align: top;\n",
       "    }\n",
       "\n",
       "    .dataframe thead th {\n",
       "        text-align: right;\n",
       "    }\n",
       "</style>\n",
       "<table border=\"1\" class=\"dataframe\">\n",
       "  <thead>\n",
       "    <tr style=\"text-align: right;\">\n",
       "      <th></th>\n",
       "      <th>Title</th>\n",
       "      <th>Rating</th>\n",
       "      <th>Price</th>\n",
       "    </tr>\n",
       "  </thead>\n",
       "  <tbody>\n",
       "    <tr>\n",
       "      <th>0</th>\n",
       "      <td>Samsung Galaxy Book2 Intel 12th Gen core i5 39...</td>\n",
       "      <td>3.6</td>\n",
       "      <td>69,990</td>\n",
       "    </tr>\n",
       "    <tr>\n",
       "      <th>1</th>\n",
       "      <td>Lenovo IdeaPad Slim 3 Intel Core i5 12th Gen 1...</td>\n",
       "      <td>3.0</td>\n",
       "      <td>59,490</td>\n",
       "    </tr>\n",
       "    <tr>\n",
       "      <th>2</th>\n",
       "      <td>Lenovo IdeaPad Slim 3 Intel Core i5 11th Gen 1...</td>\n",
       "      <td>4.1</td>\n",
       "      <td>49,999</td>\n",
       "    </tr>\n",
       "    <tr>\n",
       "      <th>3</th>\n",
       "      <td>Lenovo IdeaPad Gaming 3 Intel Core i5 10th Gen...</td>\n",
       "      <td>4.0</td>\n",
       "      <td>53,990</td>\n",
       "    </tr>\n",
       "    <tr>\n",
       "      <th>4</th>\n",
       "      <td>Redmi Book Pro Intel Core i5 11th Gen H Series...</td>\n",
       "      <td>5.0</td>\n",
       "      <td>39,990</td>\n",
       "    </tr>\n",
       "    <tr>\n",
       "      <th>5</th>\n",
       "      <td>Lenovo IdeaPad Slim 3 Intel Core i5 12th Gen 1...</td>\n",
       "      <td>4.0</td>\n",
       "      <td>59,490</td>\n",
       "    </tr>\n",
       "    <tr>\n",
       "      <th>6</th>\n",
       "      <td>Lenovo IdeaPad Gaming 3 Intel Core i5 11th Gen...</td>\n",
       "      <td>3.4</td>\n",
       "      <td>69,490</td>\n",
       "    </tr>\n",
       "    <tr>\n",
       "      <th>7</th>\n",
       "      <td>Lenovo IdeaPad Gaming 3 Intel Core i5 11th Gen...</td>\n",
       "      <td>4.1</td>\n",
       "      <td>52,990</td>\n",
       "    </tr>\n",
       "    <tr>\n",
       "      <th>8</th>\n",
       "      <td>HP 15s 12th Gen Intel Core i5 8GB RAM/512GB SS...</td>\n",
       "      <td>1.0</td>\n",
       "      <td>56,990</td>\n",
       "    </tr>\n",
       "    <tr>\n",
       "      <th>9</th>\n",
       "      <td>ASUS VivoBook 17, Intel Core i5-1135G7 11th Ge...</td>\n",
       "      <td>4.3</td>\n",
       "      <td>51,990</td>\n",
       "    </tr>\n",
       "  </tbody>\n",
       "</table>\n",
       "</div>"
      ],
      "text/plain": [
       "                                               Title Rating   Price\n",
       "0  Samsung Galaxy Book2 Intel 12th Gen core i5 39...    3.6  69,990\n",
       "1  Lenovo IdeaPad Slim 3 Intel Core i5 12th Gen 1...    3.0  59,490\n",
       "2  Lenovo IdeaPad Slim 3 Intel Core i5 11th Gen 1...    4.1  49,999\n",
       "3  Lenovo IdeaPad Gaming 3 Intel Core i5 10th Gen...    4.0  53,990\n",
       "4  Redmi Book Pro Intel Core i5 11th Gen H Series...    5.0  39,990\n",
       "5  Lenovo IdeaPad Slim 3 Intel Core i5 12th Gen 1...    4.0  59,490\n",
       "6  Lenovo IdeaPad Gaming 3 Intel Core i5 11th Gen...    3.4  69,490\n",
       "7  Lenovo IdeaPad Gaming 3 Intel Core i5 11th Gen...    4.1  52,990\n",
       "8  HP 15s 12th Gen Intel Core i5 8GB RAM/512GB SS...    1.0  56,990\n",
       "9  ASUS VivoBook 17, Intel Core i5-1135G7 11th Ge...    4.3  51,990"
      ]
     },
     "execution_count": 137,
     "metadata": {},
     "output_type": "execute_result"
    }
   ],
   "source": [
    "laptop = pd.DataFrame({\"Title\":title,\"Rating\":rating,\"Price\":price})\n",
    "laptop #final Dataframe"
   ]
  },
  {
   "cell_type": "markdown",
   "id": "84e7bc3d",
   "metadata": {},
   "source": [
    "# Ans9"
   ]
  },
  {
   "cell_type": "code",
   "execution_count": 192,
   "id": "3693dac7",
   "metadata": {},
   "outputs": [],
   "source": [
    "import selenium\n",
    "from selenium import webdriver\n",
    "from selenium.common.exceptions import StaleElementReferenceException, NoSuchElementException\n",
    "from selenium.webdriver.common.by import By\n",
    "\n",
    "import pandas as pd\n",
    "\n",
    "import warnings\n",
    "warnings.filterwarnings('ignore')\n",
    "\n",
    "import time"
   ]
  },
  {
   "cell_type": "code",
   "execution_count": 193,
   "id": "bafb56b8",
   "metadata": {},
   "outputs": [],
   "source": [
    "driver = webdriver.Chrome(r\"D:\\Fliprobo\\chromedriver.exe\")"
   ]
  },
  {
   "cell_type": "code",
   "execution_count": 194,
   "id": "5385b26d",
   "metadata": {},
   "outputs": [],
   "source": [
    "driver.get(\"https://www.ambitionbox.com/\")"
   ]
  },
  {
   "cell_type": "code",
   "execution_count": 195,
   "id": "1f44590a",
   "metadata": {},
   "outputs": [],
   "source": [
    "jobs = driver.find_element(By.CLASS_NAME,\"navItemLink\")\n",
    "jobs.click()"
   ]
  },
  {
   "cell_type": "code",
   "execution_count": 196,
   "id": "de8a37fe",
   "metadata": {},
   "outputs": [],
   "source": [
    "#giving title\n",
    "job_name=driver.find_element(By.XPATH,\"/html/body/div/div/div/div[2]/div[1]/div[1]/div/div/div/div/span/input\")\n",
    "job_name.send_keys(\"Data Scientist\")"
   ]
  },
  {
   "cell_type": "code",
   "execution_count": 197,
   "id": "cdd80645",
   "metadata": {},
   "outputs": [],
   "source": [
    "#clicking on search button\n",
    "search = driver.find_element(By.CLASS_NAME,\"ctas-btn-medium\")\n",
    "search.click()"
   ]
  },
  {
   "cell_type": "code",
   "execution_count": 198,
   "id": "8b1f6650",
   "metadata": {},
   "outputs": [],
   "source": [
    "#selecting location\n",
    "sel_location = driver.find_element(By.CLASS_NAME,\"icon-chevron-right\")\n",
    "sel_location.click()\n"
   ]
  },
  {
   "cell_type": "code",
   "execution_count": 200,
   "id": "9ea8f84f",
   "metadata": {},
   "outputs": [],
   "source": [
    "#after selecting on location drop down for selecting Noida location\n",
    "location = driver.find_element(By.XPATH,\"/html/body/div/div/div/div[2]/div[1]/div[2]/div[1]/div/div/div/div[2]/div[2]/div/div[3]/div[1]/div[2]/div/label\")\n",
    "location.click()"
   ]
  },
  {
   "cell_type": "code",
   "execution_count": 209,
   "id": "39cdb047",
   "metadata": {},
   "outputs": [],
   "source": [
    "#Scraping first 10 job title\n",
    "title=[]\n",
    "t=driver.find_elements(By.XPATH,'//a[@class=\"title noclick\"]')\n",
    "for i in t:\n",
    "    title.append(i.text)\n",
    "    \n",
    "#Scraping first 10 comopanies\n",
    "company=[]\n",
    "c= driver.find_elements(By.XPATH,'//p[@class=\"company body-medium\"]')\n",
    "for i in c:\n",
    "    company.append(i.text)\n",
    "    \n",
    "\n",
    "#Scraping first 10 locations    \n",
    "location=[]\n",
    "l=driver.find_elements(By.XPATH,'//div[@class=\"entity loc\"]')\n",
    "for i in l[1:11]:\n",
    "    location.append(i.text)\n",
    "    \n",
    "#Scraping Experience first 10 jobs\n",
    "experience=[]\n",
    "e=driver.find_elements(By.XPATH,'//div[@class=\"job-basic-info show-flex\"]')\n",
    "for i in e[1:11]:\n",
    "    experience.append(i.text.split(\"\\n\")[0])\n",
    "\n",
    "    "
   ]
  },
  {
   "cell_type": "code",
   "execution_count": 210,
   "id": "21792cef",
   "metadata": {},
   "outputs": [
    {
     "name": "stdout",
     "output_type": "stream",
     "text": [
      "10 10 10 10\n"
     ]
    }
   ],
   "source": [
    "print(len(title),len(company),len(location),len(experience))\n"
   ]
  },
  {
   "cell_type": "code",
   "execution_count": 211,
   "id": "83f09a6c",
   "metadata": {},
   "outputs": [
    {
     "data": {
      "text/plain": [
       "['5-9 Yrs',\n",
       " '4-12 Yrs',\n",
       " '6-10 Yrs',\n",
       " '5-10 Yrs',\n",
       " '8-13 Yrs',\n",
       " '8-12 Yrs',\n",
       " '4-5 Yrs',\n",
       " '5-10 Yrs',\n",
       " '3-8 Yrs',\n",
       " '₹ 0.5-0.5 LPA']"
      ]
     },
     "execution_count": 211,
     "metadata": {},
     "output_type": "execute_result"
    }
   ],
   "source": [
    "experience #checking the values\n"
   ]
  },
  {
   "cell_type": "code",
   "execution_count": 212,
   "id": "cc94b004",
   "metadata": {},
   "outputs": [
    {
     "data": {
      "text/html": [
       "<div>\n",
       "<style scoped>\n",
       "    .dataframe tbody tr th:only-of-type {\n",
       "        vertical-align: middle;\n",
       "    }\n",
       "\n",
       "    .dataframe tbody tr th {\n",
       "        vertical-align: top;\n",
       "    }\n",
       "\n",
       "    .dataframe thead th {\n",
       "        text-align: right;\n",
       "    }\n",
       "</style>\n",
       "<table border=\"1\" class=\"dataframe\">\n",
       "  <thead>\n",
       "    <tr style=\"text-align: right;\">\n",
       "      <th></th>\n",
       "      <th>Job_title</th>\n",
       "      <th>Company</th>\n",
       "      <th>Location</th>\n",
       "      <th>Experience</th>\n",
       "    </tr>\n",
       "  </thead>\n",
       "  <tbody>\n",
       "    <tr>\n",
       "      <th>0</th>\n",
       "      <td>Hiring Data Scientist #productbasecompany #CBRE</td>\n",
       "      <td>CBRE South Asia Pvt Ltd</td>\n",
       "      <td>Hyderabad/Secunderabad, Gurgaon/Gurugram, Noida</td>\n",
       "      <td>5-9 Yrs</td>\n",
       "    </tr>\n",
       "    <tr>\n",
       "      <th>1</th>\n",
       "      <td>Data Scientist</td>\n",
       "      <td>Ericsson India Global Services Pvt. Ltd.</td>\n",
       "      <td>Noida</td>\n",
       "      <td>4-12 Yrs</td>\n",
       "    </tr>\n",
       "    <tr>\n",
       "      <th>2</th>\n",
       "      <td>Data Scientist</td>\n",
       "      <td>GENPACT India Private Limited</td>\n",
       "      <td>Ghaziabad, Gurgaon/Gurugram, Noida</td>\n",
       "      <td>6-10 Yrs</td>\n",
       "    </tr>\n",
       "    <tr>\n",
       "      <th>3</th>\n",
       "      <td>Data Scientist</td>\n",
       "      <td>Optum Global Solutions (India) Private Limited</td>\n",
       "      <td>Noida</td>\n",
       "      <td>5-10 Yrs</td>\n",
       "    </tr>\n",
       "    <tr>\n",
       "      <th>4</th>\n",
       "      <td>Associate Manager - Data Scientist</td>\n",
       "      <td>Optum Global Solutions (India) Private Limited</td>\n",
       "      <td>Noida</td>\n",
       "      <td>8-13 Yrs</td>\n",
       "    </tr>\n",
       "    <tr>\n",
       "      <th>5</th>\n",
       "      <td>Data Scientist</td>\n",
       "      <td>Ericsson India Global Services Pvt. Ltd.</td>\n",
       "      <td>Noida</td>\n",
       "      <td>8-12 Yrs</td>\n",
       "    </tr>\n",
       "    <tr>\n",
       "      <th>6</th>\n",
       "      <td>Data Scientist</td>\n",
       "      <td>SOPRA STERIA INDIA LIMITED</td>\n",
       "      <td>Chennai, Bengaluru/Bangalore, Noida</td>\n",
       "      <td>4-5 Yrs</td>\n",
       "    </tr>\n",
       "    <tr>\n",
       "      <th>7</th>\n",
       "      <td>Data Scientist - Noida/Bangalore</td>\n",
       "      <td>EXL Services.com ( I ) Pvt. Ltd.</td>\n",
       "      <td>Bengaluru/Bangalore, Noida</td>\n",
       "      <td>5-10 Yrs</td>\n",
       "    </tr>\n",
       "    <tr>\n",
       "      <th>8</th>\n",
       "      <td>EY - Data Engineer - Data Integration/Modeling...</td>\n",
       "      <td>EY</td>\n",
       "      <td>Pune, Bengaluru/Bangalore, Hyderabad/Secundera...</td>\n",
       "      <td>3-8 Yrs</td>\n",
       "    </tr>\n",
       "    <tr>\n",
       "      <th>9</th>\n",
       "      <td>Data Scientist Intern</td>\n",
       "      <td>CARE HEALTH INSURANCE LIMITED</td>\n",
       "      <td>Faridabad, Delhi NCR, Gurgaon/Gurugram +1 more</td>\n",
       "      <td>₹ 0.5-0.5 LPA</td>\n",
       "    </tr>\n",
       "  </tbody>\n",
       "</table>\n",
       "</div>"
      ],
      "text/plain": [
       "                                           Job_title  \\\n",
       "0    Hiring Data Scientist #productbasecompany #CBRE   \n",
       "1                                     Data Scientist   \n",
       "2                                     Data Scientist   \n",
       "3                                     Data Scientist   \n",
       "4                 Associate Manager - Data Scientist   \n",
       "5                                     Data Scientist   \n",
       "6                                     Data Scientist   \n",
       "7                   Data Scientist - Noida/Bangalore   \n",
       "8  EY - Data Engineer - Data Integration/Modeling...   \n",
       "9                              Data Scientist Intern   \n",
       "\n",
       "                                          Company  \\\n",
       "0                         CBRE South Asia Pvt Ltd   \n",
       "1        Ericsson India Global Services Pvt. Ltd.   \n",
       "2                   GENPACT India Private Limited   \n",
       "3  Optum Global Solutions (India) Private Limited   \n",
       "4  Optum Global Solutions (India) Private Limited   \n",
       "5        Ericsson India Global Services Pvt. Ltd.   \n",
       "6                      SOPRA STERIA INDIA LIMITED   \n",
       "7                EXL Services.com ( I ) Pvt. Ltd.   \n",
       "8                                              EY   \n",
       "9                   CARE HEALTH INSURANCE LIMITED   \n",
       "\n",
       "                                            Location     Experience  \n",
       "0    Hyderabad/Secunderabad, Gurgaon/Gurugram, Noida        5-9 Yrs  \n",
       "1                                              Noida       4-12 Yrs  \n",
       "2                 Ghaziabad, Gurgaon/Gurugram, Noida       6-10 Yrs  \n",
       "3                                              Noida       5-10 Yrs  \n",
       "4                                              Noida       8-13 Yrs  \n",
       "5                                              Noida       8-12 Yrs  \n",
       "6                Chennai, Bengaluru/Bangalore, Noida        4-5 Yrs  \n",
       "7                         Bengaluru/Bangalore, Noida       5-10 Yrs  \n",
       "8  Pune, Bengaluru/Bangalore, Hyderabad/Secundera...        3-8 Yrs  \n",
       "9     Faridabad, Delhi NCR, Gurgaon/Gurugram +1 more  ₹ 0.5-0.5 LPA  "
      ]
     },
     "execution_count": 212,
     "metadata": {},
     "output_type": "execute_result"
    }
   ],
   "source": [
    "Ambition_DS=pd.DataFrame({\"Job_title\":title,\"Company\":company,\"Location\":location,\"Experience\":experience})\n",
    "Ambition_DS  # final dataframe"
   ]
  },
  {
   "cell_type": "markdown",
   "id": "e7fe1071",
   "metadata": {},
   "source": [
    "# Ans10"
   ]
  },
  {
   "cell_type": "code",
   "execution_count": 76,
   "id": "214e35a6",
   "metadata": {},
   "outputs": [],
   "source": [
    "import selenium\n",
    "from selenium import webdriver\n",
    "from selenium.common.exceptions import StaleElementReferenceException, NoSuchElementException\n",
    "from selenium.webdriver.common.by import By\n",
    "\n",
    "import pandas as pd\n",
    "\n",
    "import warnings\n",
    "warnings.filterwarnings('ignore')\n",
    "\n",
    "import time"
   ]
  },
  {
   "cell_type": "code",
   "execution_count": 77,
   "id": "2b6575b7",
   "metadata": {},
   "outputs": [],
   "source": [
    "driver = webdriver.Chrome(r\"D:\\Fliprobo\\chromedriver.exe\")"
   ]
  },
  {
   "cell_type": "code",
   "execution_count": 78,
   "id": "46ca55f7",
   "metadata": {},
   "outputs": [],
   "source": [
    "driver.get(\"https://www.ambitionbox.com/\")"
   ]
  },
  {
   "cell_type": "code",
   "execution_count": 79,
   "id": "f0aecdaf",
   "metadata": {},
   "outputs": [],
   "source": [
    "#clicking on browse salary as suggested by SME because of unevitable errors\n"
   ]
  },
  {
   "cell_type": "code",
   "execution_count": 84,
   "id": "13ba8c08",
   "metadata": {},
   "outputs": [],
   "source": [
    "job_name=driver.find_element(By.XPATH,\"/html/body/div/div/div/main/section[1]/div[2]/div[1]/span/input\")\n",
    "job_name.send_keys(\"Data Scientist\")"
   ]
  },
  {
   "cell_type": "code",
   "execution_count": 85,
   "id": "f9e4d49b",
   "metadata": {},
   "outputs": [],
   "source": [
    "search=driver.find_element(By.XPATH,'/html/body/div/div/div/main/section[1]/div[2]/div[1]/span/input')\n",
    "search.click()"
   ]
  },
  {
   "cell_type": "code",
   "execution_count": 86,
   "id": "1248f780",
   "metadata": {},
   "outputs": [
    {
     "data": {
      "text/plain": [
       "['Walmart',\n",
       " 'Ab Inbev',\n",
       " 'Optum',\n",
       " 'ZS',\n",
       " 'Fractal Analytics',\n",
       " 'Tiger Analytics',\n",
       " 'Legato Health Technologies',\n",
       " 'Tredence',\n",
       " 'UnitedHealth',\n",
       " 'Ford Motor']"
      ]
     },
     "execution_count": 86,
     "metadata": {},
     "output_type": "execute_result"
    }
   ],
   "source": [
    "#scraping company names\n",
    "name=[]\n",
    "\n",
    "cinfo=driver.find_elements(By.CLASS_NAME,\"company-info\")\n",
    "\n",
    "for i in cinfo[0:10]:   #first 10 company names\n",
    "    name.append(i.text.split(\"\\n\")[0])\n",
    "name=name[0:13]\n",
    "name"
   ]
  },
  {
   "cell_type": "code",
   "execution_count": 87,
   "id": "3b644df1",
   "metadata": {},
   "outputs": [
    {
     "data": {
      "text/plain": [
       "['(based on 22 salaries)',\n",
       " '(based on 53 salaries)',\n",
       " '(based on 48 salaries)',\n",
       " '(based on 33 salaries)',\n",
       " '(based on 109 salaries)',\n",
       " '(based on 65 salaries)',\n",
       " '(based on 11 salaries)',\n",
       " '(based on 12 salaries)',\n",
       " '(based on 91 salaries)',\n",
       " '(based on 21 salaries)']"
      ]
     },
     "execution_count": 87,
     "metadata": {},
     "output_type": "execute_result"
    }
   ],
   "source": [
    "#scraping total salary record\n",
    "salaryrecord=[]\n",
    "\n",
    "cinfo=driver.find_elements(By.XPATH,'//span[@class=\"datapoints\"]')\n",
    "\n",
    "for i in cinfo:\n",
    "    salaryrecord.append(i.text)\n",
    "salaryrecord\n"
   ]
  },
  {
   "cell_type": "code",
   "execution_count": 88,
   "id": "cb1402fe",
   "metadata": {},
   "outputs": [
    {
     "data": {
      "text/plain": [
       "['₹ 31.7L',\n",
       " '₹ 19.7L',\n",
       " '₹ 16.5L',\n",
       " '₹ 15.7L',\n",
       " '₹ 15.2L',\n",
       " '₹ 14.7L',\n",
       " '₹ 14.5L',\n",
       " '₹ 14.1L',\n",
       " '₹ 13.6L',\n",
       " '₹ 13.5L']"
      ]
     },
     "execution_count": 88,
     "metadata": {},
     "output_type": "execute_result"
    }
   ],
   "source": [
    "avrgsal=[]\n",
    "\n",
    "cinfo= driver.find_elements(By.XPATH,'//p[@class=\"averageCtc\"]')\n",
    "\n",
    "for i in cinfo:\n",
    "    avrgsal.append(i.text)\n",
    "avrgsal"
   ]
  },
  {
   "cell_type": "code",
   "execution_count": 89,
   "id": "01d1c822",
   "metadata": {},
   "outputs": [
    {
     "data": {
      "text/plain": [
       "['₹ 25.0L',\n",
       " '₹ 15.0L',\n",
       " '₹ 11.0L',\n",
       " '₹ 11.0L',\n",
       " '₹ 9.0L',\n",
       " '₹ 9.0L',\n",
       " '₹ 11.0L',\n",
       " '₹ 8.8L',\n",
       " '₹ 8.0L',\n",
       " '₹ 10.0L']"
      ]
     },
     "execution_count": 89,
     "metadata": {},
     "output_type": "execute_result"
    }
   ],
   "source": [
    "#scraping minimum salary\n",
    "minsal=[]\n",
    "\n",
    "cinfo=driver.find_elements(By.XPATH,'//div[@class=\"salary-values\"]/div[1]')\n",
    "\n",
    "for i in cinfo:\n",
    "    minsal.append(i.text)\n",
    "minsal"
   ]
  },
  {
   "cell_type": "code",
   "execution_count": 90,
   "id": "4559b914",
   "metadata": {},
   "outputs": [
    {
     "data": {
      "text/plain": [
       "['₹ 45.0L',\n",
       " '₹ 25.5L',\n",
       " '₹ 22.6L',\n",
       " '₹ 22.0L',\n",
       " '₹ 23.0L',\n",
       " '₹ 20.0L',\n",
       " '₹ 20.0L',\n",
       " '₹ 17.5L',\n",
       " '₹ 20.5L',\n",
       " '₹ 18.0L']"
      ]
     },
     "execution_count": 90,
     "metadata": {},
     "output_type": "execute_result"
    }
   ],
   "source": [
    "#scraping maximum salary\n",
    "maxsal=[]\n",
    "\n",
    "cinfo = driver.find_elements(By.XPATH,'//div[@class=\"salary-values\"]/div[2]')\n",
    "\n",
    "for i in cinfo:\n",
    "    maxsal.append(i.text)\n",
    "maxsal"
   ]
  },
  {
   "cell_type": "code",
   "execution_count": 91,
   "id": "d10b24fa",
   "metadata": {},
   "outputs": [
    {
     "data": {
      "text/plain": [
       "['3-4 yrs experience ',\n",
       " '2-4 yrs experience ',\n",
       " '2-4 yrs experience ',\n",
       " '1-2 yrs experience ',\n",
       " '2-4 yrs experience ',\n",
       " '2-4 yrs experience ',\n",
       " '4 yrs experience ',\n",
       " '3 yrs experience ',\n",
       " '2-4 yrs experience ',\n",
       " '3-4 yrs experience ']"
      ]
     },
     "execution_count": 91,
     "metadata": {},
     "output_type": "execute_result"
    }
   ],
   "source": [
    "#scraping experience required\n",
    "exp=[]\n",
    "\n",
    "cinfo=driver.find_elements(By.XPATH,'//div[@class=\"sbold-list-header\"]')\n",
    "\n",
    "for i in cinfo:\n",
    "    exp.append(i.text.split(\"(\")[0])\n",
    "exp"
   ]
  },
  {
   "cell_type": "code",
   "execution_count": 92,
   "id": "f905ab1e",
   "metadata": {},
   "outputs": [
    {
     "name": "stdout",
     "output_type": "stream",
     "text": [
      "10 10 10 10 10 10\n"
     ]
    }
   ],
   "source": [
    "print(len(name),len(salaryrecord),len(avrgsal),len(maxsal),len(minsal),len(exp)) #checking length of all columns"
   ]
  },
  {
   "cell_type": "code",
   "execution_count": 93,
   "id": "70fc2bed",
   "metadata": {},
   "outputs": [
    {
     "data": {
      "text/html": [
       "<div>\n",
       "<style scoped>\n",
       "    .dataframe tbody tr th:only-of-type {\n",
       "        vertical-align: middle;\n",
       "    }\n",
       "\n",
       "    .dataframe tbody tr th {\n",
       "        vertical-align: top;\n",
       "    }\n",
       "\n",
       "    .dataframe thead th {\n",
       "        text-align: right;\n",
       "    }\n",
       "</style>\n",
       "<table border=\"1\" class=\"dataframe\">\n",
       "  <thead>\n",
       "    <tr style=\"text-align: right;\">\n",
       "      <th></th>\n",
       "      <th>Company_Name</th>\n",
       "      <th>Experience</th>\n",
       "      <th>Total_Salary_Record</th>\n",
       "      <th>Avg_Salary</th>\n",
       "      <th>Maximun_Salary</th>\n",
       "      <th>Minimum_Salary</th>\n",
       "    </tr>\n",
       "  </thead>\n",
       "  <tbody>\n",
       "    <tr>\n",
       "      <th>0</th>\n",
       "      <td>Walmart</td>\n",
       "      <td>3-4 yrs experience</td>\n",
       "      <td>(based on 22 salaries)</td>\n",
       "      <td>₹ 31.7L</td>\n",
       "      <td>₹ 45.0L</td>\n",
       "      <td>₹ 25.0L</td>\n",
       "    </tr>\n",
       "    <tr>\n",
       "      <th>1</th>\n",
       "      <td>Ab Inbev</td>\n",
       "      <td>2-4 yrs experience</td>\n",
       "      <td>(based on 53 salaries)</td>\n",
       "      <td>₹ 19.7L</td>\n",
       "      <td>₹ 25.5L</td>\n",
       "      <td>₹ 15.0L</td>\n",
       "    </tr>\n",
       "    <tr>\n",
       "      <th>2</th>\n",
       "      <td>Optum</td>\n",
       "      <td>2-4 yrs experience</td>\n",
       "      <td>(based on 48 salaries)</td>\n",
       "      <td>₹ 16.5L</td>\n",
       "      <td>₹ 22.6L</td>\n",
       "      <td>₹ 11.0L</td>\n",
       "    </tr>\n",
       "    <tr>\n",
       "      <th>3</th>\n",
       "      <td>ZS</td>\n",
       "      <td>1-2 yrs experience</td>\n",
       "      <td>(based on 33 salaries)</td>\n",
       "      <td>₹ 15.7L</td>\n",
       "      <td>₹ 22.0L</td>\n",
       "      <td>₹ 11.0L</td>\n",
       "    </tr>\n",
       "    <tr>\n",
       "      <th>4</th>\n",
       "      <td>Fractal Analytics</td>\n",
       "      <td>2-4 yrs experience</td>\n",
       "      <td>(based on 109 salaries)</td>\n",
       "      <td>₹ 15.2L</td>\n",
       "      <td>₹ 23.0L</td>\n",
       "      <td>₹ 9.0L</td>\n",
       "    </tr>\n",
       "    <tr>\n",
       "      <th>5</th>\n",
       "      <td>Tiger Analytics</td>\n",
       "      <td>2-4 yrs experience</td>\n",
       "      <td>(based on 65 salaries)</td>\n",
       "      <td>₹ 14.7L</td>\n",
       "      <td>₹ 20.0L</td>\n",
       "      <td>₹ 9.0L</td>\n",
       "    </tr>\n",
       "    <tr>\n",
       "      <th>6</th>\n",
       "      <td>Legato Health Technologies</td>\n",
       "      <td>4 yrs experience</td>\n",
       "      <td>(based on 11 salaries)</td>\n",
       "      <td>₹ 14.5L</td>\n",
       "      <td>₹ 20.0L</td>\n",
       "      <td>₹ 11.0L</td>\n",
       "    </tr>\n",
       "    <tr>\n",
       "      <th>7</th>\n",
       "      <td>Tredence</td>\n",
       "      <td>3 yrs experience</td>\n",
       "      <td>(based on 12 salaries)</td>\n",
       "      <td>₹ 14.1L</td>\n",
       "      <td>₹ 17.5L</td>\n",
       "      <td>₹ 8.8L</td>\n",
       "    </tr>\n",
       "    <tr>\n",
       "      <th>8</th>\n",
       "      <td>UnitedHealth</td>\n",
       "      <td>2-4 yrs experience</td>\n",
       "      <td>(based on 91 salaries)</td>\n",
       "      <td>₹ 13.6L</td>\n",
       "      <td>₹ 20.5L</td>\n",
       "      <td>₹ 8.0L</td>\n",
       "    </tr>\n",
       "    <tr>\n",
       "      <th>9</th>\n",
       "      <td>Ford Motor</td>\n",
       "      <td>3-4 yrs experience</td>\n",
       "      <td>(based on 21 salaries)</td>\n",
       "      <td>₹ 13.5L</td>\n",
       "      <td>₹ 18.0L</td>\n",
       "      <td>₹ 10.0L</td>\n",
       "    </tr>\n",
       "  </tbody>\n",
       "</table>\n",
       "</div>"
      ],
      "text/plain": [
       "                 Company_Name           Experience      Total_Salary_Record  \\\n",
       "0                     Walmart  3-4 yrs experience    (based on 22 salaries)   \n",
       "1                    Ab Inbev  2-4 yrs experience    (based on 53 salaries)   \n",
       "2                       Optum  2-4 yrs experience    (based on 48 salaries)   \n",
       "3                          ZS  1-2 yrs experience    (based on 33 salaries)   \n",
       "4           Fractal Analytics  2-4 yrs experience   (based on 109 salaries)   \n",
       "5             Tiger Analytics  2-4 yrs experience    (based on 65 salaries)   \n",
       "6  Legato Health Technologies    4 yrs experience    (based on 11 salaries)   \n",
       "7                    Tredence    3 yrs experience    (based on 12 salaries)   \n",
       "8                UnitedHealth  2-4 yrs experience    (based on 91 salaries)   \n",
       "9                  Ford Motor  3-4 yrs experience    (based on 21 salaries)   \n",
       "\n",
       "  Avg_Salary Maximun_Salary Minimum_Salary  \n",
       "0    ₹ 31.7L        ₹ 45.0L        ₹ 25.0L  \n",
       "1    ₹ 19.7L        ₹ 25.5L        ₹ 15.0L  \n",
       "2    ₹ 16.5L        ₹ 22.6L        ₹ 11.0L  \n",
       "3    ₹ 15.7L        ₹ 22.0L        ₹ 11.0L  \n",
       "4    ₹ 15.2L        ₹ 23.0L         ₹ 9.0L  \n",
       "5    ₹ 14.7L        ₹ 20.0L         ₹ 9.0L  \n",
       "6    ₹ 14.5L        ₹ 20.0L        ₹ 11.0L  \n",
       "7    ₹ 14.1L        ₹ 17.5L         ₹ 8.8L  \n",
       "8    ₹ 13.6L        ₹ 20.5L         ₹ 8.0L  \n",
       "9    ₹ 13.5L        ₹ 18.0L        ₹ 10.0L  "
      ]
     },
     "execution_count": 93,
     "metadata": {},
     "output_type": "execute_result"
    }
   ],
   "source": [
    "df1 = pd.DataFrame({\"Company_Name\":name,\"Experience\":exp,\"Total_Salary_Record\":salaryrecord,\"Avg_Salary\":avrgsal,\"Maximun_Salary\":maxsal,\"Minimum_Salary\":minsal})\n",
    "df1  #final DataFrame"
   ]
  },
  {
   "cell_type": "code",
   "execution_count": null,
   "id": "4d6b32f5",
   "metadata": {},
   "outputs": [],
   "source": []
  },
  {
   "cell_type": "code",
   "execution_count": null,
   "id": "288166cf",
   "metadata": {},
   "outputs": [],
   "source": []
  }
 ],
 "metadata": {
  "kernelspec": {
   "display_name": "Python 3 (ipykernel)",
   "language": "python",
   "name": "python3"
  },
  "language_info": {
   "codemirror_mode": {
    "name": "ipython",
    "version": 3
   },
   "file_extension": ".py",
   "mimetype": "text/x-python",
   "name": "python",
   "nbconvert_exporter": "python",
   "pygments_lexer": "ipython3",
   "version": "3.9.7"
  }
 },
 "nbformat": 4,
 "nbformat_minor": 5
}
