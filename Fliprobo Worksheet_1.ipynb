{
 "cells": [
  {
   "cell_type": "markdown",
   "id": "fa340291",
   "metadata": {},
   "source": [
    "# Python---Worksheet 1"
   ]
  },
  {
   "cell_type": "code",
   "execution_count": null,
   "id": "44218895",
   "metadata": {},
   "outputs": [],
   "source": [
    "Ans1 : c) %"
   ]
  },
  {
   "cell_type": "code",
   "execution_count": null,
   "id": "d615500b",
   "metadata": {},
   "outputs": [],
   "source": [
    "Ans2 : b) 0"
   ]
  },
  {
   "cell_type": "code",
   "execution_count": null,
   "id": "a7cd0396",
   "metadata": {},
   "outputs": [],
   "source": [
    "Ans3 : c) 24"
   ]
  },
  {
   "cell_type": "code",
   "execution_count": null,
   "id": "32302c8f",
   "metadata": {},
   "outputs": [],
   "source": [
    "Ans4 : a) 2"
   ]
  },
  {
   "cell_type": "code",
   "execution_count": null,
   "id": "b88c2be8",
   "metadata": {},
   "outputs": [],
   "source": [
    "Ans5 : d) 6"
   ]
  },
  {
   "cell_type": "code",
   "execution_count": null,
   "id": "eb986a83",
   "metadata": {},
   "outputs": [],
   "source": [
    "Ans6 : c)  the finally block will be executed no matter if the try block raises an error or not."
   ]
  },
  {
   "cell_type": "code",
   "execution_count": null,
   "id": "654878ad",
   "metadata": {},
   "outputs": [],
   "source": [
    "Ans7 : a) It is used to raise an exception."
   ]
  },
  {
   "cell_type": "code",
   "execution_count": null,
   "id": "e973af59",
   "metadata": {},
   "outputs": [],
   "source": [
    "Ans8 : c)  in defining a generator"
   ]
  },
  {
   "cell_type": "code",
   "execution_count": null,
   "id": "2ef0bcd5",
   "metadata": {},
   "outputs": [],
   "source": [
    "Ans9 : A) _abc , C) abc2"
   ]
  },
  {
   "cell_type": "code",
   "execution_count": null,
   "id": "5d0a0ce7",
   "metadata": {},
   "outputs": [],
   "source": [
    "Ans10 : A) yield B) raise"
   ]
  },
  {
   "cell_type": "code",
   "execution_count": 22,
   "id": "7669808c",
   "metadata": {},
   "outputs": [],
   "source": [
    "# Ans11\n",
    "\n",
    "def factorial(n):\n",
    "    factorial =1\n",
    "    if n < 0:\n",
    "        print(\"Factorial does not exist\")\n",
    "    elif n==0:\n",
    "        print(\"Factorial is 1\")\n",
    "    else:\n",
    "        for f in range(1,n+1):\n",
    "            factorial= factorial*f\n",
    "        print(\"Factorial of\", n ,\"is\",factorial)\n",
    "        \n",
    "   "
   ]
  },
  {
   "cell_type": "code",
   "execution_count": 23,
   "id": "121b8a11",
   "metadata": {},
   "outputs": [
    {
     "name": "stdout",
     "output_type": "stream",
     "text": [
      "Factorial is 1\n"
     ]
    }
   ],
   "source": [
    "factorial(0)"
   ]
  },
  {
   "cell_type": "code",
   "execution_count": 24,
   "id": "0c15bf32",
   "metadata": {},
   "outputs": [
    {
     "name": "stdout",
     "output_type": "stream",
     "text": [
      "Factorial does not exist\n"
     ]
    }
   ],
   "source": [
    "factorial(-1)"
   ]
  },
  {
   "cell_type": "code",
   "execution_count": 25,
   "id": "635c4f12",
   "metadata": {},
   "outputs": [
    {
     "name": "stdout",
     "output_type": "stream",
     "text": [
      "Factorial of 4 is 24\n"
     ]
    }
   ],
   "source": [
    "factorial(4)"
   ]
  },
  {
   "cell_type": "code",
   "execution_count": 26,
   "id": "1dfc991d",
   "metadata": {},
   "outputs": [
    {
     "name": "stdout",
     "output_type": "stream",
     "text": [
      "Factorial of 24 is 620448401733239439360000\n"
     ]
    }
   ],
   "source": [
    "factorial(24)"
   ]
  },
  {
   "cell_type": "code",
   "execution_count": 103,
   "id": "b81c7ff2",
   "metadata": {},
   "outputs": [],
   "source": [
    "# Ans12\n",
    "def prime_or_composite(num):\n",
    "    flag = False\n",
    "    for i in range(2, num):\n",
    "        if (num % i) == 0:\n",
    "            flag = True       \n",
    "    if flag==True:\n",
    "        print(num, \"is composite number\")\n",
    "    else:\n",
    "        print(num, \"is a prime number\")\n",
    "    \n"
   ]
  },
  {
   "cell_type": "code",
   "execution_count": 106,
   "id": "f81f8985",
   "metadata": {},
   "outputs": [
    {
     "name": "stdout",
     "output_type": "stream",
     "text": [
      "6 is composite number\n"
     ]
    }
   ],
   "source": [
    "prime_or_composite(6)"
   ]
  },
  {
   "cell_type": "code",
   "execution_count": 107,
   "id": "a89b0825",
   "metadata": {},
   "outputs": [
    {
     "name": "stdout",
     "output_type": "stream",
     "text": [
      "31 is a prime number\n"
     ]
    }
   ],
   "source": [
    "prime_or_composite(31)"
   ]
  },
  {
   "cell_type": "code",
   "execution_count": 18,
   "id": "90ca3e89",
   "metadata": {},
   "outputs": [
    {
     "name": "stdout",
     "output_type": "stream",
     "text": [
      "enter a string\"aishhsis\"\n",
      "The string is a palindrome\n"
     ]
    }
   ],
   "source": [
    "# Ans 13\n",
    "a= str(input(\"enter a string\"))\n",
    "p=len(a)\n",
    "if p%2!=0:\n",
    "    print(\"The string is not a Palindrom\")\n",
    "else:\n",
    "    q=p-1\n",
    "    for i in range(len(a)):\n",
    "        if a[i]==a[q-i]:\n",
    "            print(\"The string is a palindrome\")\n",
    "            break\n",
    "  \n",
    "    \n"
   ]
  },
  {
   "cell_type": "code",
   "execution_count": 5,
   "id": "282c4bfc",
   "metadata": {},
   "outputs": [
    {
     "name": "stdout",
     "output_type": "stream",
     "text": [
      "Enter the length of side a in cm4\n",
      "Enter the length of side b in cm3\n",
      "the Third side of triangle is  5.0\n"
     ]
    }
   ],
   "source": [
    "# Ans 14\n",
    "\n",
    "import math as m\n",
    "import numpy as np\n",
    "a = int(input(\"Enter the length of side a in cm\"))\n",
    "b = int(input(\"Enter the length of side b in cm\"))\n",
    "\n",
    "h =(a**2)+(b**2)\n",
    "\n",
    "p =m.sqrt(h)\n",
    "print(\"the Third side of triangle is \", p)"
   ]
  },
  {
   "cell_type": "code",
   "execution_count": 2,
   "id": "fa2685a8",
   "metadata": {},
   "outputs": [
    {
     "name": "stdout",
     "output_type": "stream",
     "text": [
      "Enter the string: abba\n",
      "{'a': 2, 'b': 2}\n"
     ]
    }
   ],
   "source": [
    "# Ans 15\n",
    "\n",
    "str1 = input (\"Enter the string: \")\n",
    "d = dict()\n",
    "for c in str1:\n",
    "    if c in d:\n",
    "        d[c] = d[c] + 1\n",
    "    else:\n",
    "        d[c] = 1\n",
    "print(d)"
   ]
  },
  {
   "cell_type": "code",
   "execution_count": null,
   "id": "7b127fa8",
   "metadata": {},
   "outputs": [],
   "source": []
  }
 ],
 "metadata": {
  "kernelspec": {
   "display_name": "Python 3 (ipykernel)",
   "language": "python",
   "name": "python3"
  },
  "language_info": {
   "codemirror_mode": {
    "name": "ipython",
    "version": 3
   },
   "file_extension": ".py",
   "mimetype": "text/x-python",
   "name": "python",
   "nbconvert_exporter": "python",
   "pygments_lexer": "ipython3",
   "version": "3.9.7"
  }
 },
 "nbformat": 4,
 "nbformat_minor": 5
}
